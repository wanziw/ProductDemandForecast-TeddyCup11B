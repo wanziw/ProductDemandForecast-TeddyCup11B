{
 "cells": [
  {
   "cell_type": "code",
   "execution_count": 84,
   "id": "28dc652c",
   "metadata": {},
   "outputs": [],
   "source": [
    "import pandas as pd          \n",
    "import numpy as np\n",
    "import matplotlib.pyplot as plt\n",
    "from datetime import datetime    \n",
    "from pandas import Series \n",
    "from sklearn.metrics import mean_squared_error\n",
    "from math import sqrt\n",
    "from statsmodels.tsa.seasonal import seasonal_decompose\n",
    "import statsmodels\n",
    "import statsmodels.api as sm\n",
    "from statsmodels.tsa.arima_model import ARIMA\n",
    "%matplotlib inline\n",
    "plt.rcParams['font.sans-serif'] = [\"SimHei\"]\n",
    "plt.rcParams[\"axes.unicode_minus\"] = False\n",
    "import seaborn as sns\n",
    "sns.set(style=\"darkgrid\")"
   ]
  },
  {
   "cell_type": "code",
   "execution_count": 85,
   "id": "a024efdf",
   "metadata": {},
   "outputs": [],
   "source": [
    "# 一些全局变量 \n",
    "is_need_log = False\n",
    "valid_num = 44  #表示第40个月已经预测完毕"
   ]
  },
  {
   "cell_type": "code",
   "execution_count": 86,
   "id": "d7a77895",
   "metadata": {},
   "outputs": [],
   "source": [
    "sales_data = pd.read_csv(\"./示例数据/B题-测试数据/order_train2.csv\")\n",
    "test  = pd.read_csv(\"./示例数据/B题-测试数据/predict_sku2.csv\")"
   ]
  },
  {
   "cell_type": "code",
   "execution_count": 87,
   "id": "97522bcb",
   "metadata": {},
   "outputs": [
    {
     "data": {
      "text/html": [
       "<div>\n",
       "<style scoped>\n",
       "    .dataframe tbody tr th:only-of-type {\n",
       "        vertical-align: middle;\n",
       "    }\n",
       "\n",
       "    .dataframe tbody tr th {\n",
       "        vertical-align: top;\n",
       "    }\n",
       "\n",
       "    .dataframe thead th {\n",
       "        text-align: right;\n",
       "    }\n",
       "</style>\n",
       "<table border=\"1\" class=\"dataframe\">\n",
       "  <thead>\n",
       "    <tr style=\"text-align: right;\">\n",
       "      <th></th>\n",
       "      <th>order_date</th>\n",
       "      <th>sales_region_code</th>\n",
       "      <th>item_code</th>\n",
       "      <th>first_cate_code</th>\n",
       "      <th>second_cate_code</th>\n",
       "      <th>sales_chan_name</th>\n",
       "      <th>item_price</th>\n",
       "      <th>ord_qty</th>\n",
       "    </tr>\n",
       "  </thead>\n",
       "  <tbody>\n",
       "    <tr>\n",
       "      <th>0</th>\n",
       "      <td>2015-09-01</td>\n",
       "      <td>104</td>\n",
       "      <td>22069</td>\n",
       "      <td>307</td>\n",
       "      <td>403</td>\n",
       "      <td>offline</td>\n",
       "      <td>1114.0</td>\n",
       "      <td>19</td>\n",
       "    </tr>\n",
       "    <tr>\n",
       "      <th>1</th>\n",
       "      <td>2015-09-01</td>\n",
       "      <td>104</td>\n",
       "      <td>20028</td>\n",
       "      <td>301</td>\n",
       "      <td>405</td>\n",
       "      <td>offline</td>\n",
       "      <td>1012.0</td>\n",
       "      <td>12</td>\n",
       "    </tr>\n",
       "    <tr>\n",
       "      <th>2</th>\n",
       "      <td>2015-09-02</td>\n",
       "      <td>104</td>\n",
       "      <td>21183</td>\n",
       "      <td>307</td>\n",
       "      <td>403</td>\n",
       "      <td>online</td>\n",
       "      <td>428.0</td>\n",
       "      <td>109</td>\n",
       "    </tr>\n",
       "    <tr>\n",
       "      <th>3</th>\n",
       "      <td>2015-09-02</td>\n",
       "      <td>104</td>\n",
       "      <td>20448</td>\n",
       "      <td>308</td>\n",
       "      <td>404</td>\n",
       "      <td>online</td>\n",
       "      <td>962.0</td>\n",
       "      <td>3</td>\n",
       "    </tr>\n",
       "    <tr>\n",
       "      <th>4</th>\n",
       "      <td>2015-09-02</td>\n",
       "      <td>104</td>\n",
       "      <td>21565</td>\n",
       "      <td>307</td>\n",
       "      <td>403</td>\n",
       "      <td>offline</td>\n",
       "      <td>1400.0</td>\n",
       "      <td>3</td>\n",
       "    </tr>\n",
       "  </tbody>\n",
       "</table>\n",
       "</div>"
      ],
      "text/plain": [
       "   order_date  sales_region_code  item_code  first_cate_code  \\\n",
       "0  2015-09-01                104      22069              307   \n",
       "1  2015-09-01                104      20028              301   \n",
       "2  2015-09-02                104      21183              307   \n",
       "3  2015-09-02                104      20448              308   \n",
       "4  2015-09-02                104      21565              307   \n",
       "\n",
       "   second_cate_code sales_chan_name  item_price  ord_qty  \n",
       "0               403         offline      1114.0       19  \n",
       "1               405         offline      1012.0       12  \n",
       "2               403          online       428.0      109  \n",
       "3               404          online       962.0        3  \n",
       "4               403         offline      1400.0        3  "
      ]
     },
     "execution_count": 87,
     "metadata": {},
     "output_type": "execute_result"
    }
   ],
   "source": [
    "sales_data.head()"
   ]
  },
  {
   "cell_type": "code",
   "execution_count": 88,
   "id": "c9c4a9d0",
   "metadata": {},
   "outputs": [
    {
     "name": "stdout",
     "output_type": "stream",
     "text": [
      "<class 'pandas.core.frame.DataFrame'>\n",
      "RangeIndex: 677214 entries, 0 to 677213\n",
      "Data columns (total 8 columns):\n",
      " #   Column             Non-Null Count   Dtype  \n",
      "---  ------             --------------   -----  \n",
      " 0   order_date         677214 non-null  object \n",
      " 1   sales_region_code  677214 non-null  int64  \n",
      " 2   item_code          677214 non-null  int64  \n",
      " 3   first_cate_code    677214 non-null  int64  \n",
      " 4   second_cate_code   677214 non-null  int64  \n",
      " 5   sales_chan_name    677214 non-null  object \n",
      " 6   item_price         677214 non-null  float64\n",
      " 7   ord_qty            677214 non-null  int64  \n",
      "dtypes: float64(1), int64(5), object(2)\n",
      "memory usage: 41.3+ MB\n"
     ]
    }
   ],
   "source": [
    "sales_data.info()"
   ]
  },
  {
   "cell_type": "code",
   "execution_count": 89,
   "id": "89449d5e",
   "metadata": {},
   "outputs": [
    {
     "data": {
      "text/html": [
       "<div>\n",
       "<style scoped>\n",
       "    .dataframe tbody tr th:only-of-type {\n",
       "        vertical-align: middle;\n",
       "    }\n",
       "\n",
       "    .dataframe tbody tr th {\n",
       "        vertical-align: top;\n",
       "    }\n",
       "\n",
       "    .dataframe thead th {\n",
       "        text-align: right;\n",
       "    }\n",
       "</style>\n",
       "<table border=\"1\" class=\"dataframe\">\n",
       "  <thead>\n",
       "    <tr style=\"text-align: right;\">\n",
       "      <th></th>\n",
       "      <th>sales_region_code</th>\n",
       "      <th>item_code</th>\n",
       "      <th>first_cate_code</th>\n",
       "      <th>second_cate_code</th>\n",
       "      <th>item_price</th>\n",
       "      <th>ord_qty</th>\n",
       "    </tr>\n",
       "  </thead>\n",
       "  <tbody>\n",
       "    <tr>\n",
       "      <th>count</th>\n",
       "      <td>677214.000000</td>\n",
       "      <td>677214.000000</td>\n",
       "      <td>677214.000000</td>\n",
       "      <td>677214.000000</td>\n",
       "      <td>677214.000000</td>\n",
       "      <td>677214.000000</td>\n",
       "    </tr>\n",
       "    <tr>\n",
       "      <th>mean</th>\n",
       "      <td>102.881955</td>\n",
       "      <td>21002.069281</td>\n",
       "      <td>304.939716</td>\n",
       "      <td>406.446876</td>\n",
       "      <td>1091.399496</td>\n",
       "      <td>89.110023</td>\n",
       "    </tr>\n",
       "    <tr>\n",
       "      <th>std</th>\n",
       "      <td>1.490684</td>\n",
       "      <td>591.540499</td>\n",
       "      <td>2.006534</td>\n",
       "      <td>3.084888</td>\n",
       "      <td>1145.879509</td>\n",
       "      <td>197.017004</td>\n",
       "    </tr>\n",
       "    <tr>\n",
       "      <th>min</th>\n",
       "      <td>101.000000</td>\n",
       "      <td>20001.000000</td>\n",
       "      <td>301.000000</td>\n",
       "      <td>401.000000</td>\n",
       "      <td>1.000000</td>\n",
       "      <td>1.000000</td>\n",
       "    </tr>\n",
       "    <tr>\n",
       "      <th>25%</th>\n",
       "      <td>102.000000</td>\n",
       "      <td>20502.000000</td>\n",
       "      <td>303.000000</td>\n",
       "      <td>404.000000</td>\n",
       "      <td>604.000000</td>\n",
       "      <td>10.000000</td>\n",
       "    </tr>\n",
       "    <tr>\n",
       "      <th>50%</th>\n",
       "      <td>103.000000</td>\n",
       "      <td>20973.000000</td>\n",
       "      <td>306.000000</td>\n",
       "      <td>407.000000</td>\n",
       "      <td>892.000000</td>\n",
       "      <td>27.000000</td>\n",
       "    </tr>\n",
       "    <tr>\n",
       "      <th>75%</th>\n",
       "      <td>105.000000</td>\n",
       "      <td>21507.000000</td>\n",
       "      <td>306.000000</td>\n",
       "      <td>408.000000</td>\n",
       "      <td>1313.000000</td>\n",
       "      <td>96.000000</td>\n",
       "    </tr>\n",
       "    <tr>\n",
       "      <th>max</th>\n",
       "      <td>105.000000</td>\n",
       "      <td>22084.000000</td>\n",
       "      <td>308.000000</td>\n",
       "      <td>412.000000</td>\n",
       "      <td>260014.000000</td>\n",
       "      <td>16308.000000</td>\n",
       "    </tr>\n",
       "  </tbody>\n",
       "</table>\n",
       "</div>"
      ],
      "text/plain": [
       "       sales_region_code      item_code  first_cate_code  second_cate_code  \\\n",
       "count      677214.000000  677214.000000    677214.000000     677214.000000   \n",
       "mean          102.881955   21002.069281       304.939716        406.446876   \n",
       "std             1.490684     591.540499         2.006534          3.084888   \n",
       "min           101.000000   20001.000000       301.000000        401.000000   \n",
       "25%           102.000000   20502.000000       303.000000        404.000000   \n",
       "50%           103.000000   20973.000000       306.000000        407.000000   \n",
       "75%           105.000000   21507.000000       306.000000        408.000000   \n",
       "max           105.000000   22084.000000       308.000000        412.000000   \n",
       "\n",
       "          item_price        ord_qty  \n",
       "count  677214.000000  677214.000000  \n",
       "mean     1091.399496      89.110023  \n",
       "std      1145.879509     197.017004  \n",
       "min         1.000000       1.000000  \n",
       "25%       604.000000      10.000000  \n",
       "50%       892.000000      27.000000  \n",
       "75%      1313.000000      96.000000  \n",
       "max    260014.000000   16308.000000  "
      ]
     },
     "execution_count": 89,
     "metadata": {},
     "output_type": "execute_result"
    }
   ],
   "source": [
    "sales_data.describe()"
   ]
  },
  {
   "cell_type": "markdown",
   "id": "c7bfdd6d",
   "metadata": {},
   "source": [
    "# 1. Data cleaning"
   ]
  },
  {
   "cell_type": "markdown",
   "id": "d71fa102",
   "metadata": {},
   "source": [
    "## Remove outliers"
   ]
  },
  {
   "cell_type": "code",
   "execution_count": 90,
   "id": "1423d1df",
   "metadata": {},
   "outputs": [
    {
     "data": {
      "text/plain": [
       "<AxesSubplot: xlabel='item_price'>"
      ]
     },
     "execution_count": 90,
     "metadata": {},
     "output_type": "execute_result"
    },
    {
     "data": {
      "image/png": "[encoded data removed]",
      "text/plain": [
       "<Figure size 720x288 with 1 Axes>"
      ]
     },
     "metadata": {},
     "output_type": "display_data"
    },
    {
     "data": {
      "image/png": "[encoded data removed]",
      "text/plain": [
       "<Figure size 720x288 with 1 Axes>"
      ]
     },
     "metadata": {},
     "output_type": "display_data"
    }
   ],
   "source": [
    "# 销售量\n",
    "plt.figure(figsize=(10,4))\n",
    "plt.xlim(-100, 20000)\n",
    "flierprops = dict(marker='o', markerfacecolor='purple', markersize=6,\n",
    "                  linestyle='none', markeredgecolor='black')\n",
    "sns.boxplot(x=sales_data.ord_qty, flierprops=flierprops)\n",
    "\n",
    "# 价格\n",
    "plt.figure(figsize=(10,4))\n",
    "plt.xlim(sales_data.item_price.min(), sales_data.item_price.max()*1.1)\n",
    "sns.boxplot(x=sales_data.item_price, flierprops=flierprops)"
   ]
  },
  {
   "cell_type": "code",
   "execution_count": 91,
   "id": "f3ba4beb",
   "metadata": {},
   "outputs": [
    {
     "data": {
      "text/plain": [
       "260014.0"
      ]
     },
     "execution_count": 91,
     "metadata": {},
     "output_type": "execute_result"
    }
   ],
   "source": [
    "sales_data.item_price.max()"
   ]
  },
  {
   "cell_type": "markdown",
   "id": "c0b7cdb7",
   "metadata": {},
   "source": [
    "- 去除销量大于4000的以及价格大于30000的\n",
    "    - 其实这里还需要验证一下去除的那几条记录，是不是好的，因为可能有些商品就是卖这么多或者怎样\n",
    "    - 验证一下test集里有没有出现"
   ]
  },
  {
   "cell_type": "code",
   "execution_count": 92,
   "id": "2b74a57d",
   "metadata": {},
   "outputs": [],
   "source": [
    "sales_data = sales_data[(sales_data.item_price < 30000 )& (sales_data.ord_qty < 4000)]"
   ]
  },
  {
   "cell_type": "code",
   "execution_count": null,
   "id": "1ed7582e",
   "metadata": {},
   "outputs": [],
   "source": []
  },
  {
   "cell_type": "markdown",
   "id": "3360481b",
   "metadata": {},
   "source": [
    "## 数据类型处理"
   ]
  },
  {
   "cell_type": "code",
   "execution_count": 93,
   "id": "c36924e1",
   "metadata": {},
   "outputs": [],
   "source": [
    "# 时间 object->datetime格式\n",
    "sales_data[\"order_date\"]=sales_data[\"order_date\"].apply(pd.to_datetime,format='%Y-%m-%d')"
   ]
  },
  {
   "cell_type": "code",
   "execution_count": 94,
   "id": "d4ecf444",
   "metadata": {},
   "outputs": [],
   "source": [
    "# 线上0 线下1\n",
    "dic = {\"offline\":1,\"online\":0}\n",
    "sales_data['sales_chan_name'] = sales_data['sales_chan_name'].map(dic)"
   ]
  },
  {
   "cell_type": "code",
   "execution_count": 95,
   "id": "a1e602d3",
   "metadata": {},
   "outputs": [
    {
     "data": {
      "text/plain": [
       "(array([20001, 20002, 20003, ..., 22082, 22083, 22084]),\n",
       " array([  13,  779, 2981, ...,  162,  447,  519]))"
      ]
     },
     "execution_count": 95,
     "metadata": {},
     "output_type": "execute_result"
    }
   ],
   "source": [
    "# 单独的item代码，以及其对应的记录条数\n",
    "train_item = np.unique(sales_data[\"item_code\"],return_counts=True)\n",
    "train_item"
   ]
  },
  {
   "cell_type": "code",
   "execution_count": null,
   "id": "833c2454",
   "metadata": {},
   "outputs": [],
   "source": []
  },
  {
   "cell_type": "markdown",
   "id": "87701d6f",
   "metadata": {},
   "source": [
    "## 检验这四类code是否一一对应\n",
    "对后续如何处理很关键"
   ]
  },
  {
   "cell_type": "code",
   "execution_count": null,
   "id": "98116680",
   "metadata": {},
   "outputs": [],
   "source": []
  },
  {
   "cell_type": "code",
   "execution_count": null,
   "id": "8897938c",
   "metadata": {},
   "outputs": [],
   "source": []
  },
  {
   "cell_type": "code",
   "execution_count": null,
   "id": "3a0f310b",
   "metadata": {},
   "outputs": [],
   "source": []
  },
  {
   "cell_type": "markdown",
   "id": "08431a5b",
   "metadata": {},
   "source": [
    "- 简单总结\n",
    "   - 一级分类和二级分类是一对多的\n",
    "   - 每个商品只有一个类别，不会对用多种\n",
    "   - 1421 种商品中，只有 332 种商品是只在一个地区销售的，其他的都在多个地区销售"
   ]
  },
  {
   "cell_type": "markdown",
   "id": "03df2f16",
   "metadata": {},
   "source": [
    "## 编码label_encoding\n",
    "- 将地区、item_code、类别进行顺序编码"
   ]
  },
  {
   "cell_type": "code",
   "execution_count": null,
   "id": "ea93feb8",
   "metadata": {},
   "outputs": [],
   "source": []
  },
  {
   "cell_type": "markdown",
   "id": "6ef4ed32",
   "metadata": {},
   "source": [
    "这里test有train中没有的商品类别（没有更新）\n",
    "包括\n",
    "> y contains previously unseen labels: [20011, 20025, 20198, 20273, 20324, 20401, 20449, 20456, 20469, 20503, 20549, 20701, 20721, 20736, 20750, 20793, 20841, 20869, 20951, 20999, 21085, 21184, 21393, 21416, 21523, 21606, 21667, 21687, 21823, 21867, 21879, 21954, 22075]\n",
    "\n",
    "所以就先不对item code进行编码了"
   ]
  },
  {
   "cell_type": "code",
   "execution_count": null,
   "id": "741f97ba",
   "metadata": {},
   "outputs": [],
   "source": []
  },
  {
   "cell_type": "markdown",
   "id": "df98009b",
   "metadata": {},
   "source": [
    "- 标签平滑处理：取对数，其实应该放在不同的时间精度不同，比如按月预测的话，应该先按月合成再取对数\n",
    "- 按照月份递增的顺序，创建一个包含月份、地区和商品的组合的矩阵df。\n",
    "    - Item_cnt_day（ord_qty）被求和为Item_cnt_month。\n",
    "- product()函数也可以用于求取一个可迭代对象中自己各个元素的全排列组合\n",
    "\n",
    "- 因为每一个月，每个region种所出售的item情况不同，很多时候可能是0（没有这个记录），但是这都要参与到我们的建模中。所以我们要先将所有的情况都列出来。然后再与现有数据合并，缺失的数据就填补为0，这样构建数据集"
   ]
  },
  {
   "cell_type": "markdown",
   "id": "a6303889",
   "metadata": {},
   "source": [
    "- ？？？\n",
    "- 这里暂时按月合成的时候，先忽略线上、线下的因素，全部一股脑合并先，需要补充eda，对不同商品线上线下销售情况进行EDA，再进行分析"
   ]
  },
  {
   "cell_type": "code",
   "execution_count": 96,
   "id": "abff876f",
   "metadata": {},
   "outputs": [],
   "source": [
    "# # 销量取对数\n",
    "# import math\n",
    "# sales_data[\"ord_qty\"] = list(map(lambda x : x if x== np.NaN else math.log(x+1,2),sales_data[\"ord_qty\"]))"
   ]
  },
  {
   "cell_type": "code",
   "execution_count": 97,
   "id": "e1f13693",
   "metadata": {},
   "outputs": [],
   "source": [
    "# 生成一列月份编号\n",
    "sales_data[\"month\"] = sales_data.order_date.dt.month\n",
    "sales_data[\"year\"] = sales_data.order_date.dt.year\n",
    "sales_data[\"date_block_num\"] = (sales_data[\"year\"]-sales_data[\"year\"].min())*12+sales_data[\"month\"]-9 # 减8是因为第一个月是9月份\n",
    "\n",
    "# 输出结果\n",
    "del sales_data[\"month\"],sales_data[\"year\"]"
   ]
  },
  {
   "cell_type": "code",
   "execution_count": null,
   "id": "d7e78511",
   "metadata": {},
   "outputs": [],
   "source": []
  },
  {
   "cell_type": "markdown",
   "id": "59a295d9",
   "metadata": {},
   "source": [
    "尝试直接剔除104地区\n",
    "实际上应该不需要"
   ]
  },
  {
   "cell_type": "code",
   "execution_count": null,
   "id": "130f989b",
   "metadata": {},
   "outputs": [],
   "source": []
  },
  {
   "cell_type": "code",
   "execution_count": 98,
   "id": "af7a93dd",
   "metadata": {},
   "outputs": [
    {
     "data": {
      "text/plain": [
       "0.22646808624267578"
      ]
     },
     "execution_count": 98,
     "metadata": {},
     "output_type": "execute_result"
    }
   ],
   "source": [
    "from itertools import product\n",
    "import time\n",
    "ts = time.time()\n",
    "matrix = []\n",
    "cols  = [\"date_block_num\",\"sales_region_code\", \"item_code\"]\n",
    "for i in range(43):\n",
    "    sales = sales_data[sales_data.date_block_num == i]\n",
    "    region_list = sales.sales_region_code.unique() # （不）剔除了104地区\n",
    "    item_list = sales.item_code.unique()\n",
    "    matrix.append( np.array(list( product( [i],region_list , item_list) ), dtype = np.int16) )\n",
    "\n",
    "matrix = pd.DataFrame( np.vstack(matrix), columns = cols ) # 堆叠\n",
    "matrix[\"date_block_num\"] = matrix[\"date_block_num\"].astype(np.int8)\n",
    "matrix[\"sales_region_code\"] = matrix[\"sales_region_code\"].astype(np.int8)\n",
    "matrix[\"item_code\"] = matrix[\"item_code\"].astype(np.int16)\n",
    "matrix.sort_values( cols, inplace = True )\n",
    "time.time()- ts "
   ]
  },
  {
   "cell_type": "code",
   "execution_count": 99,
   "id": "688cc900",
   "metadata": {},
   "outputs": [],
   "source": [
    "# add revenue to train df 收入\n",
    "sales_data[\"revenue\"] = sales_data[\"item_price\"] * sales_data[\"ord_qty\"]"
   ]
  },
  {
   "cell_type": "code",
   "execution_count": 100,
   "id": "b2fb3d5d",
   "metadata": {},
   "outputs": [
    {
     "data": {
      "text/plain": [
       "0.1412806510925293"
      ]
     },
     "execution_count": 100,
     "metadata": {},
     "output_type": "execute_result"
    }
   ],
   "source": [
    "ts = time.time()\n",
    "group = sales_data.groupby( [\"date_block_num\", \"sales_region_code\", \"item_code\"] ).agg( {\"ord_qty\": [\"sum\"]} )\n",
    "group.columns = [\"item_cnt_month\"]\n",
    "group.reset_index( inplace = True) # 这一步重置索引，直接把层级索引转换为列\n",
    "matrix = pd.merge( matrix, group, on = cols, how = \"left\" ) # 转换后，二者就可以merge了\n",
    "matrix[\"item_cnt_month\"] = matrix[\"item_cnt_month\"].fillna(0).astype(np.float16) # 填补缺失值\n",
    "time.time() - ts"
   ]
  },
  {
   "cell_type": "code",
   "execution_count": 101,
   "id": "f4222e92",
   "metadata": {},
   "outputs": [
    {
     "data": {
      "text/html": [
       "<div>\n",
       "<style scoped>\n",
       "    .dataframe tbody tr th:only-of-type {\n",
       "        vertical-align: middle;\n",
       "    }\n",
       "\n",
       "    .dataframe tbody tr th {\n",
       "        vertical-align: top;\n",
       "    }\n",
       "\n",
       "    .dataframe thead th {\n",
       "        text-align: right;\n",
       "    }\n",
       "</style>\n",
       "<table border=\"1\" class=\"dataframe\">\n",
       "  <thead>\n",
       "    <tr style=\"text-align: right;\">\n",
       "      <th></th>\n",
       "      <th>date_block_num</th>\n",
       "      <th>sales_region_code</th>\n",
       "      <th>item_code</th>\n",
       "      <th>item_cnt_month</th>\n",
       "    </tr>\n",
       "  </thead>\n",
       "  <tbody>\n",
       "    <tr>\n",
       "      <th>0</th>\n",
       "      <td>0</td>\n",
       "      <td>101</td>\n",
       "      <td>20003</td>\n",
       "      <td>0.0</td>\n",
       "    </tr>\n",
       "    <tr>\n",
       "      <th>1</th>\n",
       "      <td>0</td>\n",
       "      <td>101</td>\n",
       "      <td>20006</td>\n",
       "      <td>0.0</td>\n",
       "    </tr>\n",
       "    <tr>\n",
       "      <th>2</th>\n",
       "      <td>0</td>\n",
       "      <td>101</td>\n",
       "      <td>20007</td>\n",
       "      <td>3092.0</td>\n",
       "    </tr>\n",
       "    <tr>\n",
       "      <th>3</th>\n",
       "      <td>0</td>\n",
       "      <td>101</td>\n",
       "      <td>20008</td>\n",
       "      <td>308.0</td>\n",
       "    </tr>\n",
       "    <tr>\n",
       "      <th>4</th>\n",
       "      <td>0</td>\n",
       "      <td>101</td>\n",
       "      <td>20009</td>\n",
       "      <td>260.0</td>\n",
       "    </tr>\n",
       "  </tbody>\n",
       "</table>\n",
       "</div>"
      ],
      "text/plain": [
       "   date_block_num  sales_region_code  item_code  item_cnt_month\n",
       "0               0                101      20003             0.0\n",
       "1               0                101      20006             0.0\n",
       "2               0                101      20007          3092.0\n",
       "3               0                101      20008           308.0\n",
       "4               0                101      20009           260.0"
      ]
     },
     "execution_count": 101,
     "metadata": {},
     "output_type": "execute_result"
    }
   ],
   "source": [
    "# matrix就是每月、每个地区、每个商品的销量\n",
    "matrix.head()  "
   ]
  },
  {
   "cell_type": "markdown",
   "id": "de81c6a1",
   "metadata": {},
   "source": [
    "- 为第40个月设置一下test集"
   ]
  },
  {
   "cell_type": "code",
   "execution_count": 102,
   "id": "77a66e3b",
   "metadata": {},
   "outputs": [],
   "source": [
    "# 对测试集添加一个月份列，同时设置一下三列的数据格式\n",
    "\n",
    "test[\"date_block_num\"] = valid_num+1\n",
    "test[\"date_block_num\"] = test[\"date_block_num\"].astype(np.int8)\n",
    "test[\"sales_region_code\"] = test.sales_region_code.astype(np.int8)\n",
    "test[\"item_code\"] = test.item_code.astype(np.int16)"
   ]
  },
  {
   "cell_type": "markdown",
   "id": "45c15bc0",
   "metadata": {},
   "source": [
    "- 合并训练集和测试集"
   ]
  },
  {
   "cell_type": "code",
   "execution_count": 103,
   "id": "ab2cba33",
   "metadata": {},
   "outputs": [
    {
     "data": {
      "text/html": [
       "<div>\n",
       "<style scoped>\n",
       "    .dataframe tbody tr th:only-of-type {\n",
       "        vertical-align: middle;\n",
       "    }\n",
       "\n",
       "    .dataframe tbody tr th {\n",
       "        vertical-align: top;\n",
       "    }\n",
       "\n",
       "    .dataframe thead th {\n",
       "        text-align: right;\n",
       "    }\n",
       "</style>\n",
       "<table border=\"1\" class=\"dataframe\">\n",
       "  <thead>\n",
       "    <tr style=\"text-align: right;\">\n",
       "      <th></th>\n",
       "      <th>first_cate_code</th>\n",
       "      <th>second_cate_code</th>\n",
       "      <th>item_code</th>\n",
       "    </tr>\n",
       "  </thead>\n",
       "  <tbody>\n",
       "    <tr>\n",
       "      <th>0</th>\n",
       "      <td>307</td>\n",
       "      <td>403</td>\n",
       "      <td>22069</td>\n",
       "    </tr>\n",
       "    <tr>\n",
       "      <th>1</th>\n",
       "      <td>301</td>\n",
       "      <td>405</td>\n",
       "      <td>20028</td>\n",
       "    </tr>\n",
       "    <tr>\n",
       "      <th>2</th>\n",
       "      <td>307</td>\n",
       "      <td>403</td>\n",
       "      <td>21183</td>\n",
       "    </tr>\n",
       "    <tr>\n",
       "      <th>3</th>\n",
       "      <td>308</td>\n",
       "      <td>404</td>\n",
       "      <td>20448</td>\n",
       "    </tr>\n",
       "    <tr>\n",
       "      <th>4</th>\n",
       "      <td>307</td>\n",
       "      <td>403</td>\n",
       "      <td>21565</td>\n",
       "    </tr>\n",
       "  </tbody>\n",
       "</table>\n",
       "</div>"
      ],
      "text/plain": [
       "   first_cate_code  second_cate_code  item_code\n",
       "0              307               403      22069\n",
       "1              301               405      20028\n",
       "2              307               403      21183\n",
       "3              308               404      20448\n",
       "4              307               403      21565"
      ]
     },
     "execution_count": 103,
     "metadata": {},
     "output_type": "execute_result"
    }
   ],
   "source": [
    "map_cate_df = sales_data[[\"first_cate_code\",\"second_cate_code\",\"item_code\"]].drop_duplicates()\n",
    "map_cate_df.head()"
   ]
  },
  {
   "cell_type": "code",
   "execution_count": 104,
   "id": "be0d090e",
   "metadata": {},
   "outputs": [],
   "source": [
    "# matrix.head()"
   ]
  },
  {
   "cell_type": "code",
   "execution_count": 105,
   "id": "69b494f2",
   "metadata": {},
   "outputs": [],
   "source": [
    "# 给matrix补充上类别属性\n",
    "matrix = pd.merge(matrix, map_cate_df, on = [\"item_code\"], how = \"left\")\n",
    "matrix[\"first_cate_code\"] = matrix[\"first_cate_code\"].astype(np.int16)\n",
    "matrix[\"second_cate_code\"] = matrix[\"second_cate_code\"].astype(np.int16)"
   ]
  },
  {
   "cell_type": "code",
   "execution_count": 106,
   "id": "b30d72a9",
   "metadata": {},
   "outputs": [],
   "source": [
    "# matrix.head()"
   ]
  },
  {
   "cell_type": "code",
   "execution_count": 107,
   "id": "5ebac8fe",
   "metadata": {},
   "outputs": [
    {
     "data": {
      "text/html": [
       "<div>\n",
       "<style scoped>\n",
       "    .dataframe tbody tr th:only-of-type {\n",
       "        vertical-align: middle;\n",
       "    }\n",
       "\n",
       "    .dataframe tbody tr th {\n",
       "        vertical-align: top;\n",
       "    }\n",
       "\n",
       "    .dataframe thead th {\n",
       "        text-align: right;\n",
       "    }\n",
       "</style>\n",
       "<table border=\"1\" class=\"dataframe\">\n",
       "  <thead>\n",
       "    <tr style=\"text-align: right;\">\n",
       "      <th></th>\n",
       "      <th>date_block_num</th>\n",
       "      <th>sales_region_code</th>\n",
       "      <th>item_code</th>\n",
       "      <th>item_cnt_month</th>\n",
       "      <th>first_cate_code</th>\n",
       "      <th>second_cate_code</th>\n",
       "    </tr>\n",
       "  </thead>\n",
       "  <tbody>\n",
       "    <tr>\n",
       "      <th>0</th>\n",
       "      <td>0</td>\n",
       "      <td>101</td>\n",
       "      <td>20003</td>\n",
       "      <td>0.0</td>\n",
       "      <td>301</td>\n",
       "      <td>405</td>\n",
       "    </tr>\n",
       "    <tr>\n",
       "      <th>1</th>\n",
       "      <td>0</td>\n",
       "      <td>101</td>\n",
       "      <td>20006</td>\n",
       "      <td>0.0</td>\n",
       "      <td>307</td>\n",
       "      <td>403</td>\n",
       "    </tr>\n",
       "    <tr>\n",
       "      <th>2</th>\n",
       "      <td>0</td>\n",
       "      <td>101</td>\n",
       "      <td>20007</td>\n",
       "      <td>3092.0</td>\n",
       "      <td>305</td>\n",
       "      <td>412</td>\n",
       "    </tr>\n",
       "    <tr>\n",
       "      <th>3</th>\n",
       "      <td>0</td>\n",
       "      <td>101</td>\n",
       "      <td>20008</td>\n",
       "      <td>308.0</td>\n",
       "      <td>303</td>\n",
       "      <td>401</td>\n",
       "    </tr>\n",
       "    <tr>\n",
       "      <th>4</th>\n",
       "      <td>0</td>\n",
       "      <td>101</td>\n",
       "      <td>20009</td>\n",
       "      <td>260.0</td>\n",
       "      <td>306</td>\n",
       "      <td>407</td>\n",
       "    </tr>\n",
       "    <tr>\n",
       "      <th>...</th>\n",
       "      <td>...</td>\n",
       "      <td>...</td>\n",
       "      <td>...</td>\n",
       "      <td>...</td>\n",
       "      <td>...</td>\n",
       "      <td>...</td>\n",
       "    </tr>\n",
       "    <tr>\n",
       "      <th>117331</th>\n",
       "      <td>42</td>\n",
       "      <td>105</td>\n",
       "      <td>22072</td>\n",
       "      <td>4224.0</td>\n",
       "      <td>305</td>\n",
       "      <td>412</td>\n",
       "    </tr>\n",
       "    <tr>\n",
       "      <th>117332</th>\n",
       "      <td>42</td>\n",
       "      <td>105</td>\n",
       "      <td>22075</td>\n",
       "      <td>17.0</td>\n",
       "      <td>307</td>\n",
       "      <td>403</td>\n",
       "    </tr>\n",
       "    <tr>\n",
       "      <th>117333</th>\n",
       "      <td>42</td>\n",
       "      <td>105</td>\n",
       "      <td>22081</td>\n",
       "      <td>0.0</td>\n",
       "      <td>303</td>\n",
       "      <td>401</td>\n",
       "    </tr>\n",
       "    <tr>\n",
       "      <th>117334</th>\n",
       "      <td>42</td>\n",
       "      <td>105</td>\n",
       "      <td>22083</td>\n",
       "      <td>769.0</td>\n",
       "      <td>303</td>\n",
       "      <td>401</td>\n",
       "    </tr>\n",
       "    <tr>\n",
       "      <th>117335</th>\n",
       "      <td>42</td>\n",
       "      <td>105</td>\n",
       "      <td>22084</td>\n",
       "      <td>0.0</td>\n",
       "      <td>302</td>\n",
       "      <td>408</td>\n",
       "    </tr>\n",
       "  </tbody>\n",
       "</table>\n",
       "<p>117336 rows × 6 columns</p>\n",
       "</div>"
      ],
      "text/plain": [
       "        date_block_num  sales_region_code  item_code  item_cnt_month  \\\n",
       "0                    0                101      20003             0.0   \n",
       "1                    0                101      20006             0.0   \n",
       "2                    0                101      20007          3092.0   \n",
       "3                    0                101      20008           308.0   \n",
       "4                    0                101      20009           260.0   \n",
       "...                ...                ...        ...             ...   \n",
       "117331              42                105      22072          4224.0   \n",
       "117332              42                105      22075            17.0   \n",
       "117333              42                105      22081             0.0   \n",
       "117334              42                105      22083           769.0   \n",
       "117335              42                105      22084             0.0   \n",
       "\n",
       "        first_cate_code  second_cate_code  \n",
       "0                   301               405  \n",
       "1                   307               403  \n",
       "2                   305               412  \n",
       "3                   303               401  \n",
       "4                   306               407  \n",
       "...                 ...               ...  \n",
       "117331              305               412  \n",
       "117332              307               403  \n",
       "117333              303               401  \n",
       "117334              303               401  \n",
       "117335              302               408  \n",
       "\n",
       "[117336 rows x 6 columns]"
      ]
     },
     "execution_count": 107,
     "metadata": {},
     "output_type": "execute_result"
    }
   ],
   "source": [
    "matrix"
   ]
  },
  {
   "cell_type": "code",
   "execution_count": 108,
   "id": "b6f38735",
   "metadata": {},
   "outputs": [
    {
     "data": {
      "text/html": [
       "<div>\n",
       "<style scoped>\n",
       "    .dataframe tbody tr th:only-of-type {\n",
       "        vertical-align: middle;\n",
       "    }\n",
       "\n",
       "    .dataframe tbody tr th {\n",
       "        vertical-align: top;\n",
       "    }\n",
       "\n",
       "    .dataframe thead th {\n",
       "        text-align: right;\n",
       "    }\n",
       "</style>\n",
       "<table border=\"1\" class=\"dataframe\">\n",
       "  <thead>\n",
       "    <tr style=\"text-align: right;\">\n",
       "      <th></th>\n",
       "      <th>date_block_num</th>\n",
       "      <th>sales_region_code</th>\n",
       "      <th>item_code</th>\n",
       "      <th>item_cnt_month</th>\n",
       "      <th>first_cate_code</th>\n",
       "      <th>second_cate_code</th>\n",
       "    </tr>\n",
       "  </thead>\n",
       "  <tbody>\n",
       "    <tr>\n",
       "      <th>0</th>\n",
       "      <td>0</td>\n",
       "      <td>101</td>\n",
       "      <td>20003</td>\n",
       "      <td>0.0</td>\n",
       "      <td>301</td>\n",
       "      <td>405</td>\n",
       "    </tr>\n",
       "    <tr>\n",
       "      <th>1</th>\n",
       "      <td>0</td>\n",
       "      <td>101</td>\n",
       "      <td>20006</td>\n",
       "      <td>0.0</td>\n",
       "      <td>307</td>\n",
       "      <td>403</td>\n",
       "    </tr>\n",
       "    <tr>\n",
       "      <th>2</th>\n",
       "      <td>0</td>\n",
       "      <td>101</td>\n",
       "      <td>20007</td>\n",
       "      <td>3092.0</td>\n",
       "      <td>305</td>\n",
       "      <td>412</td>\n",
       "    </tr>\n",
       "    <tr>\n",
       "      <th>3</th>\n",
       "      <td>0</td>\n",
       "      <td>101</td>\n",
       "      <td>20008</td>\n",
       "      <td>308.0</td>\n",
       "      <td>303</td>\n",
       "      <td>401</td>\n",
       "    </tr>\n",
       "    <tr>\n",
       "      <th>4</th>\n",
       "      <td>0</td>\n",
       "      <td>101</td>\n",
       "      <td>20009</td>\n",
       "      <td>260.0</td>\n",
       "      <td>306</td>\n",
       "      <td>407</td>\n",
       "    </tr>\n",
       "    <tr>\n",
       "      <th>...</th>\n",
       "      <td>...</td>\n",
       "      <td>...</td>\n",
       "      <td>...</td>\n",
       "      <td>...</td>\n",
       "      <td>...</td>\n",
       "      <td>...</td>\n",
       "    </tr>\n",
       "    <tr>\n",
       "      <th>117331</th>\n",
       "      <td>42</td>\n",
       "      <td>105</td>\n",
       "      <td>22072</td>\n",
       "      <td>4224.0</td>\n",
       "      <td>305</td>\n",
       "      <td>412</td>\n",
       "    </tr>\n",
       "    <tr>\n",
       "      <th>117332</th>\n",
       "      <td>42</td>\n",
       "      <td>105</td>\n",
       "      <td>22075</td>\n",
       "      <td>17.0</td>\n",
       "      <td>307</td>\n",
       "      <td>403</td>\n",
       "    </tr>\n",
       "    <tr>\n",
       "      <th>117333</th>\n",
       "      <td>42</td>\n",
       "      <td>105</td>\n",
       "      <td>22081</td>\n",
       "      <td>0.0</td>\n",
       "      <td>303</td>\n",
       "      <td>401</td>\n",
       "    </tr>\n",
       "    <tr>\n",
       "      <th>117334</th>\n",
       "      <td>42</td>\n",
       "      <td>105</td>\n",
       "      <td>22083</td>\n",
       "      <td>769.0</td>\n",
       "      <td>303</td>\n",
       "      <td>401</td>\n",
       "    </tr>\n",
       "    <tr>\n",
       "      <th>117335</th>\n",
       "      <td>42</td>\n",
       "      <td>105</td>\n",
       "      <td>22084</td>\n",
       "      <td>0.0</td>\n",
       "      <td>302</td>\n",
       "      <td>408</td>\n",
       "    </tr>\n",
       "  </tbody>\n",
       "</table>\n",
       "<p>117336 rows × 6 columns</p>\n",
       "</div>"
      ],
      "text/plain": [
       "        date_block_num  sales_region_code  item_code  item_cnt_month  \\\n",
       "0                    0                101      20003             0.0   \n",
       "1                    0                101      20006             0.0   \n",
       "2                    0                101      20007          3092.0   \n",
       "3                    0                101      20008           308.0   \n",
       "4                    0                101      20009           260.0   \n",
       "...                ...                ...        ...             ...   \n",
       "117331              42                105      22072          4224.0   \n",
       "117332              42                105      22075            17.0   \n",
       "117333              42                105      22081             0.0   \n",
       "117334              42                105      22083           769.0   \n",
       "117335              42                105      22084             0.0   \n",
       "\n",
       "        first_cate_code  second_cate_code  \n",
       "0                   301               405  \n",
       "1                   307               403  \n",
       "2                   305               412  \n",
       "3                   303               401  \n",
       "4                   306               407  \n",
       "...                 ...               ...  \n",
       "117331              305               412  \n",
       "117332              307               403  \n",
       "117333              303               401  \n",
       "117334              303               401  \n",
       "117335              302               408  \n",
       "\n",
       "[117336 rows x 6 columns]"
      ]
     },
     "execution_count": 108,
     "metadata": {},
     "output_type": "execute_result"
    }
   ],
   "source": [
    "matrix"
   ]
  },
  {
   "cell_type": "code",
   "execution_count": 109,
   "id": "8e1dc25e",
   "metadata": {},
   "outputs": [],
   "source": [
    "# 合并滚动预测\n",
    "if valid_num>=43:\n",
    "    train_buchong = pd.read_csv(f\"./提交数据/final_lgbm_submission_{valid_num}_0.csv\")\n",
    "    train_buchong = train_buchong.rename(columns={'item_cnt_month_pred': 'item_cnt_month'})\n",
    "    matrix = pd.concat([matrix, train_buchong], ignore_index=True, sort=False, keys=cols) # 按三列，添加？\n"
   ]
  },
  {
   "cell_type": "code",
   "execution_count": 110,
   "id": "42cf3c0a",
   "metadata": {},
   "outputs": [
    {
     "data": {
      "text/plain": [
       "0.020741939544677734"
      ]
     },
     "execution_count": 110,
     "metadata": {},
     "output_type": "execute_result"
    }
   ],
   "source": [
    "# 合并训练和测试\n",
    "ts = time.time()\n",
    "# cols  = [\"date_block_num\",\"sales_region_code\", \"item_code\"]\n",
    "\n",
    "matrix = pd.concat([matrix, test], ignore_index=True, sort=False, keys=cols) # 按三列，添加？\n",
    "matrix.fillna( 0, inplace = True )\n",
    "time.time() - ts"
   ]
  },
  {
   "cell_type": "code",
   "execution_count": 111,
   "id": "20a9ca0e",
   "metadata": {},
   "outputs": [
    {
     "data": {
      "text/html": [
       "<div>\n",
       "<style scoped>\n",
       "    .dataframe tbody tr th:only-of-type {\n",
       "        vertical-align: middle;\n",
       "    }\n",
       "\n",
       "    .dataframe tbody tr th {\n",
       "        vertical-align: top;\n",
       "    }\n",
       "\n",
       "    .dataframe thead th {\n",
       "        text-align: right;\n",
       "    }\n",
       "</style>\n",
       "<table border=\"1\" class=\"dataframe\">\n",
       "  <thead>\n",
       "    <tr style=\"text-align: right;\">\n",
       "      <th></th>\n",
       "      <th>date_block_num</th>\n",
       "      <th>sales_region_code</th>\n",
       "      <th>item_code</th>\n",
       "      <th>item_cnt_month</th>\n",
       "      <th>first_cate_code</th>\n",
       "      <th>second_cate_code</th>\n",
       "    </tr>\n",
       "  </thead>\n",
       "  <tbody>\n",
       "    <tr>\n",
       "      <th>0</th>\n",
       "      <td>0</td>\n",
       "      <td>101</td>\n",
       "      <td>20003</td>\n",
       "      <td>0.0</td>\n",
       "      <td>301</td>\n",
       "      <td>405</td>\n",
       "    </tr>\n",
       "    <tr>\n",
       "      <th>1</th>\n",
       "      <td>0</td>\n",
       "      <td>101</td>\n",
       "      <td>20006</td>\n",
       "      <td>0.0</td>\n",
       "      <td>307</td>\n",
       "      <td>403</td>\n",
       "    </tr>\n",
       "    <tr>\n",
       "      <th>2</th>\n",
       "      <td>0</td>\n",
       "      <td>101</td>\n",
       "      <td>20007</td>\n",
       "      <td>3092.0</td>\n",
       "      <td>305</td>\n",
       "      <td>412</td>\n",
       "    </tr>\n",
       "    <tr>\n",
       "      <th>3</th>\n",
       "      <td>0</td>\n",
       "      <td>101</td>\n",
       "      <td>20008</td>\n",
       "      <td>308.0</td>\n",
       "      <td>303</td>\n",
       "      <td>401</td>\n",
       "    </tr>\n",
       "    <tr>\n",
       "      <th>4</th>\n",
       "      <td>0</td>\n",
       "      <td>101</td>\n",
       "      <td>20009</td>\n",
       "      <td>260.0</td>\n",
       "      <td>306</td>\n",
       "      <td>407</td>\n",
       "    </tr>\n",
       "    <tr>\n",
       "      <th>...</th>\n",
       "      <td>...</td>\n",
       "      <td>...</td>\n",
       "      <td>...</td>\n",
       "      <td>...</td>\n",
       "      <td>...</td>\n",
       "      <td>...</td>\n",
       "    </tr>\n",
       "    <tr>\n",
       "      <th>123243</th>\n",
       "      <td>45</td>\n",
       "      <td>105</td>\n",
       "      <td>22066</td>\n",
       "      <td>0.0</td>\n",
       "      <td>307</td>\n",
       "      <td>403</td>\n",
       "    </tr>\n",
       "    <tr>\n",
       "      <th>123244</th>\n",
       "      <td>45</td>\n",
       "      <td>105</td>\n",
       "      <td>22072</td>\n",
       "      <td>0.0</td>\n",
       "      <td>305</td>\n",
       "      <td>412</td>\n",
       "    </tr>\n",
       "    <tr>\n",
       "      <th>123245</th>\n",
       "      <td>45</td>\n",
       "      <td>105</td>\n",
       "      <td>22075</td>\n",
       "      <td>0.0</td>\n",
       "      <td>307</td>\n",
       "      <td>403</td>\n",
       "    </tr>\n",
       "    <tr>\n",
       "      <th>123246</th>\n",
       "      <td>45</td>\n",
       "      <td>105</td>\n",
       "      <td>22083</td>\n",
       "      <td>0.0</td>\n",
       "      <td>303</td>\n",
       "      <td>401</td>\n",
       "    </tr>\n",
       "    <tr>\n",
       "      <th>123247</th>\n",
       "      <td>45</td>\n",
       "      <td>105</td>\n",
       "      <td>22084</td>\n",
       "      <td>0.0</td>\n",
       "      <td>302</td>\n",
       "      <td>408</td>\n",
       "    </tr>\n",
       "  </tbody>\n",
       "</table>\n",
       "<p>123248 rows × 6 columns</p>\n",
       "</div>"
      ],
      "text/plain": [
       "        date_block_num  sales_region_code  item_code  item_cnt_month  \\\n",
       "0                    0                101      20003             0.0   \n",
       "1                    0                101      20006             0.0   \n",
       "2                    0                101      20007          3092.0   \n",
       "3                    0                101      20008           308.0   \n",
       "4                    0                101      20009           260.0   \n",
       "...                ...                ...        ...             ...   \n",
       "123243              45                105      22066             0.0   \n",
       "123244              45                105      22072             0.0   \n",
       "123245              45                105      22075             0.0   \n",
       "123246              45                105      22083             0.0   \n",
       "123247              45                105      22084             0.0   \n",
       "\n",
       "        first_cate_code  second_cate_code  \n",
       "0                   301               405  \n",
       "1                   307               403  \n",
       "2                   305               412  \n",
       "3                   303               401  \n",
       "4                   306               407  \n",
       "...                 ...               ...  \n",
       "123243              307               403  \n",
       "123244              305               412  \n",
       "123245              307               403  \n",
       "123246              303               401  \n",
       "123247              302               408  \n",
       "\n",
       "[123248 rows x 6 columns]"
      ]
     },
     "execution_count": 111,
     "metadata": {},
     "output_type": "execute_result"
    }
   ],
   "source": [
    "matrix"
   ]
  },
  {
   "cell_type": "markdown",
   "id": "58615d0b",
   "metadata": {},
   "source": [
    "取对数，+1是因为销量有可能为0"
   ]
  },
  {
   "cell_type": "code",
   "execution_count": 112,
   "id": "c9e51412",
   "metadata": {},
   "outputs": [],
   "source": [
    "matrix.to_csv('./中间数据/matrix.csv', index=False)"
   ]
  },
  {
   "cell_type": "code",
   "execution_count": 113,
   "id": "58d4f19c",
   "metadata": {},
   "outputs": [],
   "source": [
    "# # 销量取对数\n",
    "import math\n",
    "if is_need_log:\n",
    "    matrix[\"item_cnt_month\"] = list(map(lambda x : x if x== np.NaN else math.log(x+1,2),matrix[\"item_cnt_month\"]))"
   ]
  },
  {
   "cell_type": "markdown",
   "id": "0442ddfb",
   "metadata": {},
   "source": [
    "#  3. Feature Engineering"
   ]
  },
  {
   "cell_type": "markdown",
   "id": "40d13b7a",
   "metadata": {},
   "source": [
    "## 3.1 Add lag features to matrix df."
   ]
  },
  {
   "cell_type": "code",
   "execution_count": 114,
   "id": "ae5b5a9f",
   "metadata": {},
   "outputs": [],
   "source": [
    "# Define a lag feature function\n",
    "def lag_feature( df,lags, cols ):\n",
    "    for col in cols:\n",
    "        print(col)\n",
    "        tmp = df[[\"date_block_num\", \"sales_region_code\",\"item_code\",col ]]\n",
    "        for i in lags:\n",
    "            shifted = tmp.copy()\n",
    "            shifted.columns = [\"date_block_num\", \"sales_region_code\",\"item_code\", col + \"_lag_\"+str(i)]\n",
    "            shifted.date_block_num = shifted.date_block_num + i\n",
    "            df = pd.merge(df, shifted, on=[\"date_block_num\", \"sales_region_code\",\"item_code\"], how='left')\n",
    "    return df"
   ]
  },
  {
   "cell_type": "markdown",
   "id": "d551ce2b",
   "metadata": {},
   "source": [
    "- Add item_cnt_month lag features"
   ]
  },
  {
   "cell_type": "code",
   "execution_count": 115,
   "id": "ce12809a",
   "metadata": {},
   "outputs": [
    {
     "name": "stdout",
     "output_type": "stream",
     "text": [
      "item_cnt_month\n"
     ]
    },
    {
     "data": {
      "text/plain": [
       "0.18705987930297852"
      ]
     },
     "execution_count": 115,
     "metadata": {},
     "output_type": "execute_result"
    }
   ],
   "source": [
    "ts = time.time()\n",
    "matrix = lag_feature( matrix, [1,2,3,6,12], [\"item_cnt_month\"] ) # 添加该商店的该商品一个月、两个月、三个月的销量\n",
    "time.time() - ts"
   ]
  },
  {
   "cell_type": "markdown",
   "id": "7902376e",
   "metadata": {},
   "source": [
    "- Add the previous month's average item_cnt. 上个月的平均销量"
   ]
  },
  {
   "cell_type": "code",
   "execution_count": 116,
   "id": "256ccd7f",
   "metadata": {},
   "outputs": [
    {
     "name": "stdout",
     "output_type": "stream",
     "text": [
      "date_avg_item_cnt\n"
     ]
    },
    {
     "data": {
      "text/plain": [
       "0.10843205451965332"
      ]
     },
     "execution_count": 116,
     "metadata": {},
     "output_type": "execute_result"
    }
   ],
   "source": [
    "ts = time.time()\n",
    "# 计算每个月的平均销量（这个月的所有大杂烩）\n",
    "group = matrix.groupby( [\"date_block_num\"] ).agg({\"item_cnt_month\" : [\"mean\"]})\n",
    "group.columns = [\"date_avg_item_cnt\"]\n",
    "group.reset_index(inplace = True)\n",
    "\n",
    "# 在matrix中添加  前一个月的平均销量 作为一个lag feature\n",
    "matrix = pd.merge(matrix, group, on = [\"date_block_num\"], how = \"left\")\n",
    "matrix.date_avg_item_cnt = matrix[\"date_avg_item_cnt\"].astype(np.float16)\n",
    "matrix = lag_feature( matrix, [1], [\"date_avg_item_cnt\"] )\n",
    "matrix.drop( [\"date_avg_item_cnt\"], axis = 1, inplace = True )\n",
    "time.time() - ts"
   ]
  },
  {
   "cell_type": "markdown",
   "id": "bde4eee4",
   "metadata": {},
   "source": [
    "- Add lag values of item_cnt_month for month / item_id."
   ]
  },
  {
   "cell_type": "code",
   "execution_count": 117,
   "id": "920a962f",
   "metadata": {},
   "outputs": [
    {
     "name": "stdout",
     "output_type": "stream",
     "text": [
      "date_item_avg_item_cnt\n"
     ]
    },
    {
     "data": {
      "text/plain": [
       "0.3053600788116455"
      ]
     },
     "execution_count": 117,
     "metadata": {},
     "output_type": "execute_result"
    }
   ],
   "source": [
    "ts = time.time()\n",
    "# 计算每个月该商品的平均销量（这个月的该商品）\n",
    "group = matrix.groupby(['date_block_num', 'item_code']).agg({'item_cnt_month': ['mean']})\n",
    "group.columns = [ 'date_item_avg_item_cnt' ]\n",
    "group.reset_index(inplace=True)\n",
    "\n",
    "# 添加 前三个月该商品的平均销量\n",
    "matrix = pd.merge(matrix, group, on=['date_block_num','item_code'], how='left')\n",
    "matrix.date_item_avg_item_cnt = matrix['date_item_avg_item_cnt'].astype(np.float16)\n",
    "matrix = lag_feature(matrix, [1,2,3,6,12], ['date_item_avg_item_cnt'])\n",
    "matrix.drop(['date_item_avg_item_cnt'], axis=1, inplace=True)\n",
    "time.time() - ts"
   ]
  },
  {
   "cell_type": "markdown",
   "id": "9e874b14",
   "metadata": {},
   "source": [
    "- Add lag values for item_cnt_month for every month / region combination."
   ]
  },
  {
   "cell_type": "code",
   "execution_count": 118,
   "id": "22a65673",
   "metadata": {},
   "outputs": [
    {
     "name": "stderr",
     "output_type": "stream",
     "text": [
      "<ipython-input-118-708d2aaa7c26>:8: UserWarning: Pandas doesn't allow columns to be created via a new attribute name - see https://pandas.pydata.org/pandas-docs/stable/indexing.html#attribute-access\n",
      "  matrix.date_avg_item_cnt = matrix[\"date_region_avg_item_cnt\"].astype(np.float16)\n"
     ]
    },
    {
     "name": "stdout",
     "output_type": "stream",
     "text": [
      "date_region_avg_item_cnt\n"
     ]
    },
    {
     "data": {
      "text/plain": [
       "0.32154202461242676"
      ]
     },
     "execution_count": 118,
     "metadata": {},
     "output_type": "execute_result"
    }
   ],
   "source": [
    "ts = time.time()\n",
    "# 计算 该地区的平均销量\n",
    "group = matrix.groupby( [\"date_block_num\",\"sales_region_code\"] ).agg({\"item_cnt_month\" : [\"mean\"]})\n",
    "group.columns = [\"date_region_avg_item_cnt\"]\n",
    "group.reset_index(inplace = True)\n",
    "\n",
    "matrix = pd.merge(matrix, group, on = [\"date_block_num\",\"sales_region_code\"], how = \"left\")\n",
    "matrix.date_avg_item_cnt = matrix[\"date_region_avg_item_cnt\"].astype(np.float16)\n",
    "matrix = lag_feature( matrix, [1,2,3,6,12], [\"date_region_avg_item_cnt\"] )\n",
    "matrix.drop( [\"date_region_avg_item_cnt\"], axis = 1, inplace = True )\n",
    "time.time() - ts"
   ]
  },
  {
   "cell_type": "markdown",
   "id": "2369b88c",
   "metadata": {},
   "source": [
    "- Add lag values for item_cnt_month for month/region/item."
   ]
  },
  {
   "cell_type": "code",
   "execution_count": 119,
   "id": "18bf6c9d",
   "metadata": {},
   "outputs": [
    {
     "name": "stderr",
     "output_type": "stream",
     "text": [
      "<ipython-input-119-2947a4bf15f4>:8: UserWarning: Pandas doesn't allow columns to be created via a new attribute name - see https://pandas.pydata.org/pandas-docs/stable/indexing.html#attribute-access\n",
      "  matrix.date_avg_item_cnt = matrix[\"date_region_item_avg_item_cnt\"].astype(np.float16)\n"
     ]
    },
    {
     "name": "stdout",
     "output_type": "stream",
     "text": [
      "date_region_item_avg_item_cnt\n"
     ]
    },
    {
     "data": {
      "text/plain": [
       "0.4238560199737549"
      ]
     },
     "execution_count": 119,
     "metadata": {},
     "output_type": "execute_result"
    }
   ],
   "source": [
    "ts = time.time()\n",
    "# 计算每月该地区、该商品的平均销量\n",
    "group = matrix.groupby( [\"date_block_num\",\"sales_region_code\",\"item_code\"] ).agg({\"item_cnt_month\" : [\"mean\"]})\n",
    "group.columns = [\"date_region_item_avg_item_cnt\"]\n",
    "group.reset_index(inplace = True)\n",
    "\n",
    "matrix = pd.merge(matrix, group, on = [\"date_block_num\",\"sales_region_code\",\"item_code\"], how = \"left\")\n",
    "matrix.date_avg_item_cnt = matrix[\"date_region_item_avg_item_cnt\"].astype(np.float16)\n",
    "matrix = lag_feature( matrix, [1,2,3,6,12], [\"date_region_item_avg_item_cnt\"] )\n",
    "matrix.drop( [\"date_region_item_avg_item_cnt\"], axis = 1, inplace = True )\n",
    "time.time() - ts"
   ]
  },
  {
   "cell_type": "markdown",
   "id": "db025b26",
   "metadata": {},
   "source": [
    "- Add lag values for item_cnt_month for month/region/item second_cate(subtype)."
   ]
  },
  {
   "cell_type": "code",
   "execution_count": 120,
   "id": "da595deb",
   "metadata": {},
   "outputs": [
    {
     "name": "stdout",
     "output_type": "stream",
     "text": [
      "date_region_subtype_avg_item_cnt\n"
     ]
    },
    {
     "data": {
      "text/plain": [
       "0.1921708583831787"
      ]
     },
     "execution_count": 120,
     "metadata": {},
     "output_type": "execute_result"
    }
   ],
   "source": [
    "ts = time.time()\n",
    "# 计算每月该地区、该子类商品的 销售量\n",
    "group = matrix.groupby(['date_block_num', 'sales_region_code', 'second_cate_code']).agg({'item_cnt_month': ['mean']})\n",
    "group.columns = ['date_region_subtype_avg_item_cnt']\n",
    "group.reset_index(inplace=True)\n",
    "\n",
    "# 添加上一月的\n",
    "matrix = pd.merge(matrix, group, on=['date_block_num', 'sales_region_code', 'second_cate_code'], how='left')\n",
    "matrix.date_region_subtype_avg_item_cnt = matrix['date_region_subtype_avg_item_cnt'].astype(np.float16)\n",
    "matrix = lag_feature(matrix, [1], ['date_region_subtype_avg_item_cnt'])\n",
    "matrix.drop(['date_region_subtype_avg_item_cnt'], axis=1, inplace=True)\n",
    "time.time() - ts"
   ]
  },
  {
   "cell_type": "markdown",
   "id": "dd3d0d2a",
   "metadata": {},
   "source": [
    "- 其实还可以补充一个大类商品的销售情况（有需要再说吧）"
   ]
  },
  {
   "cell_type": "markdown",
   "id": "e988a3d0",
   "metadata": {},
   "source": [
    "## 3.2 add price trend feature\n",
    "* Add average item price on to matix df. \n",
    "* Add lag values of item price per month.\n",
    "* Add delta price values - how current month average pirce relates to global average.\n",
    "\n",
    "前面算的一直是销量，这里开始添加的特征是价格\n",
    "虽然要求预测的是销量，但是价格与销量息息相关，也是重要的特征\n",
    "\n",
    "Price trend features，最后只有一个'delta_price_lag'特征，具体看代码注释"
   ]
  },
  {
   "cell_type": "code",
   "execution_count": 121,
   "id": "9d0bb94d",
   "metadata": {},
   "outputs": [
    {
     "data": {
      "text/plain": [
       "Index(['date_block_num', 'sales_region_code', 'item_code', 'item_cnt_month',\n",
       "       'first_cate_code', 'second_cate_code', 'item_cnt_month_lag_1',\n",
       "       'item_cnt_month_lag_2', 'item_cnt_month_lag_3', 'item_cnt_month_lag_6',\n",
       "       'item_cnt_month_lag_12', 'date_avg_item_cnt_lag_1',\n",
       "       'date_item_avg_item_cnt_lag_1', 'date_item_avg_item_cnt_lag_2',\n",
       "       'date_item_avg_item_cnt_lag_3', 'date_item_avg_item_cnt_lag_6',\n",
       "       'date_item_avg_item_cnt_lag_12', 'date_region_avg_item_cnt_lag_1',\n",
       "       'date_region_avg_item_cnt_lag_2', 'date_region_avg_item_cnt_lag_3',\n",
       "       'date_region_avg_item_cnt_lag_6', 'date_region_avg_item_cnt_lag_12',\n",
       "       'date_region_item_avg_item_cnt_lag_1',\n",
       "       'date_region_item_avg_item_cnt_lag_2',\n",
       "       'date_region_item_avg_item_cnt_lag_3',\n",
       "       'date_region_item_avg_item_cnt_lag_6',\n",
       "       'date_region_item_avg_item_cnt_lag_12',\n",
       "       'date_region_subtype_avg_item_cnt_lag_1'],\n",
       "      dtype='object')"
      ]
     },
     "execution_count": 121,
     "metadata": {},
     "output_type": "execute_result"
    }
   ],
   "source": [
    "matrix.columns"
   ]
  },
  {
   "cell_type": "code",
   "execution_count": 122,
   "id": "0467b8bd",
   "metadata": {},
   "outputs": [
    {
     "data": {
      "text/html": [
       "<div>\n",
       "<style scoped>\n",
       "    .dataframe tbody tr th:only-of-type {\n",
       "        vertical-align: middle;\n",
       "    }\n",
       "\n",
       "    .dataframe tbody tr th {\n",
       "        vertical-align: top;\n",
       "    }\n",
       "\n",
       "    .dataframe thead th {\n",
       "        text-align: right;\n",
       "    }\n",
       "</style>\n",
       "<table border=\"1\" class=\"dataframe\">\n",
       "  <thead>\n",
       "    <tr style=\"text-align: right;\">\n",
       "      <th></th>\n",
       "      <th>order_date</th>\n",
       "      <th>sales_region_code</th>\n",
       "      <th>item_code</th>\n",
       "      <th>first_cate_code</th>\n",
       "      <th>second_cate_code</th>\n",
       "      <th>sales_chan_name</th>\n",
       "      <th>item_price</th>\n",
       "      <th>ord_qty</th>\n",
       "      <th>date_block_num</th>\n",
       "      <th>revenue</th>\n",
       "    </tr>\n",
       "  </thead>\n",
       "  <tbody>\n",
       "    <tr>\n",
       "      <th>0</th>\n",
       "      <td>2015-09-01</td>\n",
       "      <td>104</td>\n",
       "      <td>22069</td>\n",
       "      <td>307</td>\n",
       "      <td>403</td>\n",
       "      <td>1</td>\n",
       "      <td>1114.0</td>\n",
       "      <td>19</td>\n",
       "      <td>0</td>\n",
       "      <td>21166.0</td>\n",
       "    </tr>\n",
       "    <tr>\n",
       "      <th>1</th>\n",
       "      <td>2015-09-01</td>\n",
       "      <td>104</td>\n",
       "      <td>20028</td>\n",
       "      <td>301</td>\n",
       "      <td>405</td>\n",
       "      <td>1</td>\n",
       "      <td>1012.0</td>\n",
       "      <td>12</td>\n",
       "      <td>0</td>\n",
       "      <td>12144.0</td>\n",
       "    </tr>\n",
       "    <tr>\n",
       "      <th>2</th>\n",
       "      <td>2015-09-02</td>\n",
       "      <td>104</td>\n",
       "      <td>21183</td>\n",
       "      <td>307</td>\n",
       "      <td>403</td>\n",
       "      <td>0</td>\n",
       "      <td>428.0</td>\n",
       "      <td>109</td>\n",
       "      <td>0</td>\n",
       "      <td>46652.0</td>\n",
       "    </tr>\n",
       "    <tr>\n",
       "      <th>3</th>\n",
       "      <td>2015-09-02</td>\n",
       "      <td>104</td>\n",
       "      <td>20448</td>\n",
       "      <td>308</td>\n",
       "      <td>404</td>\n",
       "      <td>0</td>\n",
       "      <td>962.0</td>\n",
       "      <td>3</td>\n",
       "      <td>0</td>\n",
       "      <td>2886.0</td>\n",
       "    </tr>\n",
       "    <tr>\n",
       "      <th>4</th>\n",
       "      <td>2015-09-02</td>\n",
       "      <td>104</td>\n",
       "      <td>21565</td>\n",
       "      <td>307</td>\n",
       "      <td>403</td>\n",
       "      <td>1</td>\n",
       "      <td>1400.0</td>\n",
       "      <td>3</td>\n",
       "      <td>0</td>\n",
       "      <td>4200.0</td>\n",
       "    </tr>\n",
       "  </tbody>\n",
       "</table>\n",
       "</div>"
      ],
      "text/plain": [
       "  order_date  sales_region_code  item_code  first_cate_code  second_cate_code  \\\n",
       "0 2015-09-01                104      22069              307               403   \n",
       "1 2015-09-01                104      20028              301               405   \n",
       "2 2015-09-02                104      21183              307               403   \n",
       "3 2015-09-02                104      20448              308               404   \n",
       "4 2015-09-02                104      21565              307               403   \n",
       "\n",
       "   sales_chan_name  item_price  ord_qty  date_block_num  revenue  \n",
       "0                1      1114.0       19               0  21166.0  \n",
       "1                1      1012.0       12               0  12144.0  \n",
       "2                0       428.0      109               0  46652.0  \n",
       "3                0       962.0        3               0   2886.0  \n",
       "4                1      1400.0        3               0   4200.0  "
      ]
     },
     "execution_count": 122,
     "metadata": {},
     "output_type": "execute_result"
    }
   ],
   "source": [
    "sales_data.head()"
   ]
  },
  {
   "cell_type": "code",
   "execution_count": 123,
   "id": "e4f96073",
   "metadata": {},
   "outputs": [
    {
     "name": "stdout",
     "output_type": "stream",
     "text": [
      "date_item_avg_item_price\n"
     ]
    },
    {
     "data": {
      "text/plain": [
       "1.5474319458007812"
      ]
     },
     "execution_count": 123,
     "metadata": {},
     "output_type": "execute_result"
    }
   ],
   "source": [
    "ts = time.time()\n",
    "# 添加该商品的平均价格\n",
    "group = sales_data.groupby( [\"item_code\"] ).agg({\"item_price\": [\"mean\"]})\n",
    "group.columns = [\"item_avg_item_price\"]\n",
    "group.reset_index(inplace = True)\n",
    "\n",
    "matrix = matrix.merge( group, on = [\"item_code\"], how = \"left\" )\n",
    "matrix[\"item_avg_item_price\"] = matrix.item_avg_item_price.astype(np.float16)\n",
    "\n",
    "\n",
    "\n",
    "# 添加该商品每月的平均价格，前三个月的\n",
    "group = sales_data.groupby( [\"date_block_num\",\"item_code\"] ).agg( {\"item_price\": [\"mean\"]} )\n",
    "group.columns = [\"date_item_avg_item_price\"]\n",
    "group.reset_index(inplace = True)\n",
    "\n",
    "matrix = matrix.merge(group, on = [\"date_block_num\",\"item_code\"], how = \"left\")\n",
    "matrix[\"date_item_avg_item_price\"] = matrix.date_item_avg_item_price.astype(np.float16)\n",
    "lags = [1, 2, 3]\n",
    "matrix = lag_feature( matrix, lags, [\"date_item_avg_item_price\"] ) # 添加价格\n",
    "for i in lags: # 添加价格趋势\n",
    "    matrix[\"delta_price_lag_\" + str(i) ] = (matrix[\"date_item_avg_item_price_lag_\" + str(i)]- matrix[\"item_avg_item_price\"] )/ matrix[\"item_avg_item_price\"]\n",
    "\n",
    "\n",
    "def select_trends(row) :\n",
    "    for i in lags:\n",
    "        if row[\"delta_price_lag_\" + str(i)]:\n",
    "            return row[\"delta_price_lag_\" + str(i)]\n",
    "    return 0\n",
    "\n",
    "# 这个函数看起来像是，该商品有上一个月的趋势，就取上一个月的。有上上个月的，就取上上个月的。。。如果前三个月都没有销售的价格，那么就取0\n",
    "matrix[\"delta_price_lag\"] = matrix.apply(select_trends, axis = 1)\n",
    "matrix[\"delta_price_lag\"] = matrix.delta_price_lag.astype( np.float16 )\n",
    "matrix[\"delta_price_lag\"].fillna( 0 ,inplace = True)\n",
    "\n",
    "# 删除该商品的平均价格，商品的每月平均价格，和每月价格趋势。最后仅仅保留了一个delta_price_lag\n",
    "features_to_drop = [\"item_avg_item_price\", \"date_item_avg_item_price\"]\n",
    "for i in lags:\n",
    "    features_to_drop.append(\"date_item_avg_item_price_lag_\" + str(i) )\n",
    "    features_to_drop.append(\"delta_price_lag_\" + str(i) )\n",
    "matrix.drop(features_to_drop, axis = 1, inplace = True)\n",
    "time.time() - ts"
   ]
  },
  {
   "cell_type": "markdown",
   "id": "58508ba6",
   "metadata": {},
   "source": [
    "* Add total shop revenue per month to matix df. \n",
    "* Add lag values of revenue per month.\n",
    "* Add delta revenue values - how current month revenue relates to global average.\n",
    "\n",
    "我们已经知道validation set和test set都会出现train set所没有的新商品，借助商店revenue趋势特征可以帮助算法预测新商品在现有店铺的销量\n",
    "\n",
    "该商店的特征同上，但是泰迪杯没有这样的商店列，所以可以用大类或者小类的商品销售趋势替代\n",
    "暂时用的是细类，其实可以优化为细类和地区的组合"
   ]
  },
  {
   "cell_type": "code",
   "execution_count": null,
   "id": "62622529",
   "metadata": {},
   "outputs": [],
   "source": []
  },
  {
   "cell_type": "code",
   "execution_count": 124,
   "id": "5c7ddaf1",
   "metadata": {},
   "outputs": [
    {
     "name": "stdout",
     "output_type": "stream",
     "text": [
      "delta_revenue\n"
     ]
    },
    {
     "data": {
      "text/plain": [
       "0.26195597648620605"
      ]
     },
     "execution_count": 124,
     "metadata": {},
     "output_type": "execute_result"
    }
   ],
   "source": [
    "ts = time.time()\n",
    "group = sales_data.groupby( [\"date_block_num\",\"second_cate_code\"] ).agg({\"revenue\": [\"sum\"] })\n",
    "group.columns = [\"date_subtype_revenue\"]\n",
    "group.reset_index(inplace = True)\n",
    "\n",
    "matrix = matrix.merge( group , on = [\"date_block_num\", \"second_cate_code\"], how = \"left\" )\n",
    "matrix['date_subtype_revenue'] = matrix['date_subtype_revenue'].astype(np.float32)\n",
    "\n",
    "group = group.groupby([\"second_cate_code\"]).agg({ \"date_block_num\":[\"mean\"] })\n",
    "group.columns = [\"subtype_avg_revenue\"]\n",
    "group.reset_index(inplace = True )\n",
    "\n",
    "matrix = matrix.merge( group, on = [\"second_cate_code\"], how = \"left\" )\n",
    "matrix[\"subtype_avg_revenue\"] = matrix.subtype_avg_revenue.astype(np.float32)\n",
    "matrix[\"delta_revenue\"] = (matrix['date_subtype_revenue'] - matrix['subtype_avg_revenue']) / matrix['subtype_avg_revenue']\n",
    "matrix[\"delta_revenue\"] = matrix[\"delta_revenue\"]. astype(np.float32)\n",
    "\n",
    "matrix = lag_feature(matrix, [1], [\"delta_revenue\"])\n",
    "matrix[\"delta_revenue_lag_1\"] = matrix[\"delta_revenue_lag_1\"].astype(np.float32)\n",
    "matrix.drop( [\"date_subtype_revenue\", \"subtype_avg_revenue\", \"delta_revenue\"] ,axis = 1, inplace = True)\n",
    "time.time() - ts"
   ]
  },
  {
   "cell_type": "markdown",
   "id": "e05bc5ac",
   "metadata": {},
   "source": [
    "- 添加一些线上线下特征\n",
    "- 添加一些销量趋势特征\n",
    "- 尝试对商品进行聚类\n",
    "   - 做一些这一类都有的特征\n",
    "   - 或者按类建模预测"
   ]
  },
  {
   "cell_type": "code",
   "execution_count": 125,
   "id": "7167ca31",
   "metadata": {},
   "outputs": [],
   "source": [
    "# sales_data"
   ]
  },
  {
   "cell_type": "code",
   "execution_count": 126,
   "id": "a8d8d2e8",
   "metadata": {},
   "outputs": [
    {
     "name": "stdout",
     "output_type": "stream",
     "text": [
      "date_item_avg_item_cnt_\n"
     ]
    },
    {
     "data": {
      "text/plain": [
       "1.5469000339508057"
      ]
     },
     "execution_count": 126,
     "metadata": {},
     "output_type": "execute_result"
    }
   ],
   "source": [
    "ts = time.time()\n",
    "# 添加该商品的平均销量\n",
    "# 以下为了避免重复，使用了date_item_avg_item_cnt_，最后多加了一个_\n",
    "group = sales_data.groupby( [\"item_code\"] ).agg({\"ord_qty\": [\"mean\"]})\n",
    "group.columns = [\"item_avg_item_cnt\"]\n",
    "group.reset_index(inplace = True)\n",
    "\n",
    "matrix = matrix.merge( group, on = [\"item_code\"], how = \"left\" )\n",
    "matrix[\"item_avg_item_cnt\"] = matrix.item_avg_item_cnt.astype(np.float16)\n",
    "\n",
    "\n",
    "\n",
    "# 添加该商品每月的平均销量，前三个月的\n",
    "group = sales_data.groupby( [\"date_block_num\",\"item_code\"] ).agg({\"ord_qty\": [\"mean\"]})\n",
    "group.columns = [\"date_item_avg_item_cnt_\"]\n",
    "group.reset_index(inplace = True)\n",
    "\n",
    "matrix = matrix.merge(group, on = [\"date_block_num\",\"item_code\"], how = \"left\")\n",
    "matrix[\"date_item_avg_item_cnt_\"] = matrix.date_item_avg_item_cnt_.astype(np.float16)\n",
    "lags = [1, 2, 3]\n",
    "matrix = lag_feature( matrix, lags, [\"date_item_avg_item_cnt_\"] ) # 添加销量\n",
    "for i in lags: # 添加销量趋势\n",
    "    matrix[\"delta_cnt_lag_\" + str(i) ] = (matrix[\"date_item_avg_item_cnt__lag_\" + str(i)]- matrix[\"item_avg_item_cnt\"] )/ matrix[\"item_avg_item_cnt\"]\n",
    "# 注意这里有两个__,为了不与别的特征名字重复\n",
    "    \n",
    "def select_trends(row) :\n",
    "    for i in lags:\n",
    "        if row[\"delta_cnt_lag_\" + str(i)]:\n",
    "            return row[\"delta_cnt_lag_\" + str(i)]\n",
    "    return 0\n",
    "\n",
    "# 这个函数看起来像是，该商品有上一个月的趋势，就取上一个月的。有上上个月的，就取上上个月的。。。如果前三个月都没有销售的价格，那么就取0\n",
    "matrix[\"delta_cnt_lag\"] = matrix.apply(select_trends, axis = 1)\n",
    "matrix[\"delta_cnt_lag\"] = matrix.delta_cnt_lag.astype( np.float16 )\n",
    "matrix[\"delta_cnt_lag\"].fillna( 0 ,inplace = True)\n",
    "\n",
    "# 删除该商品的平均价格，商品的每月平均价格，和每月价格趋势。最后仅仅保留了一个delta_cnt_lag\n",
    "features_to_drop = [\"item_avg_item_cnt\", \"date_item_avg_item_cnt_\"]\n",
    "for i in lags:\n",
    "    features_to_drop.append(\"date_item_avg_item_cnt__lag_\" + str(i) )\n",
    "    features_to_drop.append(\"delta_cnt_lag_\" + str(i) )\n",
    "matrix.drop(features_to_drop, axis = 1, inplace = True)\n",
    "time.time() - ts"
   ]
  },
  {
   "cell_type": "code",
   "execution_count": 127,
   "id": "24f6dfda",
   "metadata": {},
   "outputs": [
    {
     "name": "stdout",
     "output_type": "stream",
     "text": [
      "date_item_avg_item_cnt_\n"
     ]
    },
    {
     "data": {
      "text/plain": [
       "1.589341163635254"
      ]
     },
     "execution_count": 127,
     "metadata": {},
     "output_type": "execute_result"
    }
   ],
   "source": [
    "# 尝试添加一下一年前同月的销量特征\n",
    "ts = time.time()\n",
    "# 添加该商品的平均销量\n",
    "# 以下为了避免重复，使用了date_item_avg_item_cnt_，最后多加了一个_\n",
    "group = sales_data.groupby( [\"item_code\"] ).agg({\"ord_qty\": [\"mean\"]})\n",
    "group.columns = [\"item_avg_item_cnt\"]\n",
    "group.reset_index(inplace = True)\n",
    "\n",
    "matrix = matrix.merge( group, on = [\"item_code\"], how = \"left\" )\n",
    "matrix[\"item_avg_item_cnt\"] = matrix.item_avg_item_cnt.astype(np.float16)\n",
    "\n",
    "\n",
    "\n",
    "# 添加该商品每月的平均销量，前三个月的\n",
    "group = sales_data.groupby( [\"date_block_num\",\"item_code\"] ).agg({\"ord_qty\": [\"mean\"]})\n",
    "group.columns = [\"date_item_avg_item_cnt_\"]\n",
    "group.reset_index(inplace = True)\n",
    "\n",
    "matrix = matrix.merge(group, on = [\"date_block_num\",\"item_code\"], how = \"left\")\n",
    "matrix[\"date_item_avg_item_cnt_\"] = matrix.date_item_avg_item_cnt_.astype(np.float16)\n",
    "lags = [11, 12, 13]\n",
    "matrix = lag_feature( matrix, lags, [\"date_item_avg_item_cnt_\"] ) # 添加销量\n",
    "for i in lags: # 添加销量趋势\n",
    "    matrix[\"delta_cnt_lag_\" + str(i) ] = (matrix[\"date_item_avg_item_cnt__lag_\" + str(i)]- matrix[\"item_avg_item_cnt\"] )/ matrix[\"item_avg_item_cnt\"]\n",
    "# 注意这里有两个__,为了不与别的特征名字重复\n",
    "    \n",
    "def select_trends(row) :\n",
    "    for i in lags:\n",
    "        if row[\"delta_cnt_lag_\" + str(i)]:\n",
    "            return row[\"delta_cnt_lag_\" + str(i)]\n",
    "    return 0\n",
    "\n",
    "# 这个函数看起来像是，该商品有上一个月的趋势，就取上一个月的。有上上个月的，就取上上个月的。。。如果前三个月都没有销售的价格，那么就取0\n",
    "matrix[\"delta_cnt_lag__12\"] = matrix.apply(select_trends, axis = 1)\n",
    "matrix[\"delta_cnt_lag__12\"] = matrix.delta_cnt_lag__12.astype( np.float16 )\n",
    "matrix[\"delta_cnt_lag__12\"].fillna( 0 ,inplace = True)\n",
    "\n",
    "# 删除该商品的平均价格，商品的每月平均价格，和每月价格趋势。最后仅仅保留了一个delta_cnt_lag__12\n",
    "features_to_drop = [\"item_avg_item_cnt\", \"date_item_avg_item_cnt_\"]\n",
    "for i in lags:\n",
    "    features_to_drop.append(\"date_item_avg_item_cnt__lag_\" + str(i) )\n",
    "    features_to_drop.append(\"delta_cnt_lag_\" + str(i) )\n",
    "matrix.drop(features_to_drop, axis = 1, inplace = True)\n",
    "time.time() - ts"
   ]
  },
  {
   "cell_type": "markdown",
   "id": "13cbc8df",
   "metadata": {},
   "source": [
    "- 添加线上线下特征"
   ]
  },
  {
   "cell_type": "code",
   "execution_count": 128,
   "id": "fe916c83",
   "metadata": {},
   "outputs": [
    {
     "data": {
      "text/plain": [
       "Index(['date_block_num', 'sales_region_code', 'item_code', 'item_cnt_month',\n",
       "       'first_cate_code', 'second_cate_code', 'item_cnt_month_lag_1',\n",
       "       'item_cnt_month_lag_2', 'item_cnt_month_lag_3', 'item_cnt_month_lag_6',\n",
       "       'item_cnt_month_lag_12', 'date_avg_item_cnt_lag_1',\n",
       "       'date_item_avg_item_cnt_lag_1', 'date_item_avg_item_cnt_lag_2',\n",
       "       'date_item_avg_item_cnt_lag_3', 'date_item_avg_item_cnt_lag_6',\n",
       "       'date_item_avg_item_cnt_lag_12', 'date_region_avg_item_cnt_lag_1',\n",
       "       'date_region_avg_item_cnt_lag_2', 'date_region_avg_item_cnt_lag_3',\n",
       "       'date_region_avg_item_cnt_lag_6', 'date_region_avg_item_cnt_lag_12',\n",
       "       'date_region_item_avg_item_cnt_lag_1',\n",
       "       'date_region_item_avg_item_cnt_lag_2',\n",
       "       'date_region_item_avg_item_cnt_lag_3',\n",
       "       'date_region_item_avg_item_cnt_lag_6',\n",
       "       'date_region_item_avg_item_cnt_lag_12',\n",
       "       'date_region_subtype_avg_item_cnt_lag_1', 'delta_price_lag',\n",
       "       'delta_revenue_lag_1', 'delta_cnt_lag', 'delta_cnt_lag__12'],\n",
       "      dtype='object')"
      ]
     },
     "execution_count": 128,
     "metadata": {},
     "output_type": "execute_result"
    }
   ],
   "source": [
    "matrix.columns"
   ]
  },
  {
   "cell_type": "markdown",
   "id": "44869c9f",
   "metadata": {},
   "source": [
    "- Add month and number of days in each month to matrix df.\n",
    "\n",
    "添加月份、和该月有多少天的两个特征"
   ]
  },
  {
   "cell_type": "code",
   "execution_count": 129,
   "id": "8560c680",
   "metadata": {},
   "outputs": [],
   "source": [
    "matrix[\"month\"] = (matrix[\"date_block_num\"]+9) % 12 # 9个月开始\n",
    "days = pd.Series([31,28,31,30,31,30,31,31,30,31,30,31])\n",
    "matrix[\"days\"] = matrix[\"month\"].map(days).astype(np.int8)"
   ]
  },
  {
   "cell_type": "markdown",
   "id": "6331a7cd",
   "metadata": {},
   "source": [
    "Add the month of each shop and item first sale.\n",
    "\n",
    "'item_subtype_last_sale'和'item_subtype_sale'用以纪录距离最近一次销售之间隔了几个月，通过它可以和之前月份的数据建立关联。'item_subtype_first_sale'和'item_first_sale'则是用于表示新商品的特征\n",
    "\n",
    "该商品从第一个销售到现在有几个月了"
   ]
  },
  {
   "cell_type": "code",
   "execution_count": 130,
   "id": "fb01e770",
   "metadata": {},
   "outputs": [
    {
     "data": {
      "text/plain": [
       "0.017416000366210938"
      ]
     },
     "execution_count": 130,
     "metadata": {},
     "output_type": "execute_result"
    }
   ],
   "source": [
    "ts = time.time()\n",
    "matrix[\"item_subtype_first_sale\"] = matrix[\"date_block_num\"] - matrix.groupby([\"item_code\",\"second_cate_code\"])[\"date_block_num\"].transform('min')\n",
    "matrix[\"item_first_sale\"] = matrix[\"date_block_num\"] - matrix.groupby([\"item_code\"])[\"date_block_num\"].transform('min')\n",
    "time.time() - ts"
   ]
  },
  {
   "cell_type": "markdown",
   "id": "a63c2e33",
   "metadata": {},
   "source": [
    "- 1月、6月、10月标记为促销月\n"
   ]
  },
  {
   "cell_type": "code",
   "execution_count": 131,
   "id": "297d31be",
   "metadata": {},
   "outputs": [],
   "source": [
    "matrix['is_promotion_month'] = ((matrix['month'] % 12 == 1) | (matrix['month'] % 12 == 6) | (matrix['month'] % 12 == 11)).astype(int)\n"
   ]
  },
  {
   "cell_type": "markdown",
   "id": "49ef3fd7",
   "metadata": {},
   "source": [
    "- 线上线下特征"
   ]
  },
  {
   "cell_type": "markdown",
   "id": "e51ff0f6",
   "metadata": {},
   "source": [
    "Delete first three months from matrix. They don't have lag values."
   ]
  },
  {
   "cell_type": "code",
   "execution_count": 132,
   "id": "754b950a",
   "metadata": {},
   "outputs": [
    {
     "data": {
      "text/plain": [
       "0.031662940979003906"
      ]
     },
     "execution_count": 132,
     "metadata": {},
     "output_type": "execute_result"
    }
   ],
   "source": [
    "ts = time.time()\n",
    "matrix = matrix[matrix[\"date_block_num\"] > 12]\n",
    "time.time() - ts"
   ]
  },
  {
   "cell_type": "code",
   "execution_count": 133,
   "id": "2f590f53",
   "metadata": {},
   "outputs": [],
   "source": [
    "matrix = matrix.drop_duplicates()"
   ]
  },
  {
   "cell_type": "code",
   "execution_count": 134,
   "id": "cebc53a0",
   "metadata": {},
   "outputs": [
    {
     "data": {
      "text/html": [
       "<div>\n",
       "<style scoped>\n",
       "    .dataframe tbody tr th:only-of-type {\n",
       "        vertical-align: middle;\n",
       "    }\n",
       "\n",
       "    .dataframe tbody tr th {\n",
       "        vertical-align: top;\n",
       "    }\n",
       "\n",
       "    .dataframe thead th {\n",
       "        text-align: right;\n",
       "    }\n",
       "</style>\n",
       "<table border=\"1\" class=\"dataframe\">\n",
       "  <thead>\n",
       "    <tr style=\"text-align: right;\">\n",
       "      <th></th>\n",
       "      <th>date_block_num</th>\n",
       "      <th>sales_region_code</th>\n",
       "      <th>item_code</th>\n",
       "      <th>item_cnt_month</th>\n",
       "      <th>first_cate_code</th>\n",
       "      <th>second_cate_code</th>\n",
       "      <th>item_cnt_month_lag_1</th>\n",
       "      <th>item_cnt_month_lag_2</th>\n",
       "      <th>item_cnt_month_lag_3</th>\n",
       "      <th>item_cnt_month_lag_6</th>\n",
       "      <th>...</th>\n",
       "      <th>date_region_subtype_avg_item_cnt_lag_1</th>\n",
       "      <th>delta_price_lag</th>\n",
       "      <th>delta_revenue_lag_1</th>\n",
       "      <th>delta_cnt_lag</th>\n",
       "      <th>delta_cnt_lag__12</th>\n",
       "      <th>month</th>\n",
       "      <th>days</th>\n",
       "      <th>item_subtype_first_sale</th>\n",
       "      <th>item_first_sale</th>\n",
       "      <th>is_promotion_month</th>\n",
       "    </tr>\n",
       "  </thead>\n",
       "  <tbody>\n",
       "    <tr>\n",
       "      <th>33840</th>\n",
       "      <td>13</td>\n",
       "      <td>101</td>\n",
       "      <td>20003</td>\n",
       "      <td>0.0</td>\n",
       "      <td>301</td>\n",
       "      <td>405</td>\n",
       "      <td>0.000000</td>\n",
       "      <td>0.0</td>\n",
       "      <td>0.0</td>\n",
       "      <td>0.0</td>\n",
       "      <td>...</td>\n",
       "      <td>0.00</td>\n",
       "      <td>-0.071411</td>\n",
       "      <td>1.419666e+06</td>\n",
       "      <td>-0.006149</td>\n",
       "      <td>-0.199585</td>\n",
       "      <td>10</td>\n",
       "      <td>30</td>\n",
       "      <td>13</td>\n",
       "      <td>13</td>\n",
       "      <td>0</td>\n",
       "    </tr>\n",
       "    <tr>\n",
       "      <th>33841</th>\n",
       "      <td>13</td>\n",
       "      <td>101</td>\n",
       "      <td>20005</td>\n",
       "      <td>5.0</td>\n",
       "      <td>306</td>\n",
       "      <td>407</td>\n",
       "      <td>0.000000</td>\n",
       "      <td>0.0</td>\n",
       "      <td>0.0</td>\n",
       "      <td>0.0</td>\n",
       "      <td>...</td>\n",
       "      <td>404.50</td>\n",
       "      <td>0.041565</td>\n",
       "      <td>1.264956e+07</td>\n",
       "      <td>-0.390869</td>\n",
       "      <td>-0.187988</td>\n",
       "      <td>10</td>\n",
       "      <td>30</td>\n",
       "      <td>12</td>\n",
       "      <td>12</td>\n",
       "      <td>0</td>\n",
       "    </tr>\n",
       "    <tr>\n",
       "      <th>33842</th>\n",
       "      <td>13</td>\n",
       "      <td>101</td>\n",
       "      <td>20006</td>\n",
       "      <td>0.0</td>\n",
       "      <td>307</td>\n",
       "      <td>403</td>\n",
       "      <td>0.000000</td>\n",
       "      <td>0.0</td>\n",
       "      <td>0.0</td>\n",
       "      <td>0.0</td>\n",
       "      <td>...</td>\n",
       "      <td>0.00</td>\n",
       "      <td>-0.024017</td>\n",
       "      <td>1.994304e+06</td>\n",
       "      <td>0.055695</td>\n",
       "      <td>1.519531</td>\n",
       "      <td>10</td>\n",
       "      <td>30</td>\n",
       "      <td>13</td>\n",
       "      <td>13</td>\n",
       "      <td>0</td>\n",
       "    </tr>\n",
       "    <tr>\n",
       "      <th>33843</th>\n",
       "      <td>13</td>\n",
       "      <td>101</td>\n",
       "      <td>20008</td>\n",
       "      <td>338.0</td>\n",
       "      <td>303</td>\n",
       "      <td>401</td>\n",
       "      <td>127.000000</td>\n",
       "      <td>219.0</td>\n",
       "      <td>89.0</td>\n",
       "      <td>46.0</td>\n",
       "      <td>...</td>\n",
       "      <td>281.00</td>\n",
       "      <td>-0.037445</td>\n",
       "      <td>4.716996e+06</td>\n",
       "      <td>-0.205444</td>\n",
       "      <td>0.080444</td>\n",
       "      <td>10</td>\n",
       "      <td>30</td>\n",
       "      <td>13</td>\n",
       "      <td>13</td>\n",
       "      <td>0</td>\n",
       "    </tr>\n",
       "    <tr>\n",
       "      <th>33844</th>\n",
       "      <td>13</td>\n",
       "      <td>101</td>\n",
       "      <td>20009</td>\n",
       "      <td>9.0</td>\n",
       "      <td>306</td>\n",
       "      <td>407</td>\n",
       "      <td>30.000000</td>\n",
       "      <td>10.0</td>\n",
       "      <td>2.0</td>\n",
       "      <td>18.0</td>\n",
       "      <td>...</td>\n",
       "      <td>404.50</td>\n",
       "      <td>-0.075928</td>\n",
       "      <td>1.264956e+07</td>\n",
       "      <td>-0.795898</td>\n",
       "      <td>-0.291748</td>\n",
       "      <td>10</td>\n",
       "      <td>30</td>\n",
       "      <td>13</td>\n",
       "      <td>13</td>\n",
       "      <td>0</td>\n",
       "    </tr>\n",
       "    <tr>\n",
       "      <th>...</th>\n",
       "      <td>...</td>\n",
       "      <td>...</td>\n",
       "      <td>...</td>\n",
       "      <td>...</td>\n",
       "      <td>...</td>\n",
       "      <td>...</td>\n",
       "      <td>...</td>\n",
       "      <td>...</td>\n",
       "      <td>...</td>\n",
       "      <td>...</td>\n",
       "      <td>...</td>\n",
       "      <td>...</td>\n",
       "      <td>...</td>\n",
       "      <td>...</td>\n",
       "      <td>...</td>\n",
       "      <td>...</td>\n",
       "      <td>...</td>\n",
       "      <td>...</td>\n",
       "      <td>...</td>\n",
       "      <td>...</td>\n",
       "      <td>...</td>\n",
       "    </tr>\n",
       "    <tr>\n",
       "      <th>123243</th>\n",
       "      <td>45</td>\n",
       "      <td>105</td>\n",
       "      <td>22066</td>\n",
       "      <td>0.0</td>\n",
       "      <td>307</td>\n",
       "      <td>403</td>\n",
       "      <td>2594.629787</td>\n",
       "      <td>NaN</td>\n",
       "      <td>4624.0</td>\n",
       "      <td>7600.0</td>\n",
       "      <td>...</td>\n",
       "      <td>530.50</td>\n",
       "      <td>0.000000</td>\n",
       "      <td>NaN</td>\n",
       "      <td>0.000000</td>\n",
       "      <td>-0.541992</td>\n",
       "      <td>6</td>\n",
       "      <td>31</td>\n",
       "      <td>29</td>\n",
       "      <td>29</td>\n",
       "      <td>1</td>\n",
       "    </tr>\n",
       "    <tr>\n",
       "      <th>123244</th>\n",
       "      <td>45</td>\n",
       "      <td>105</td>\n",
       "      <td>22072</td>\n",
       "      <td>0.0</td>\n",
       "      <td>305</td>\n",
       "      <td>412</td>\n",
       "      <td>1841.096182</td>\n",
       "      <td>NaN</td>\n",
       "      <td>4224.0</td>\n",
       "      <td>1010.0</td>\n",
       "      <td>...</td>\n",
       "      <td>346.50</td>\n",
       "      <td>0.000000</td>\n",
       "      <td>NaN</td>\n",
       "      <td>0.000000</td>\n",
       "      <td>0.000000</td>\n",
       "      <td>6</td>\n",
       "      <td>31</td>\n",
       "      <td>9</td>\n",
       "      <td>9</td>\n",
       "      <td>1</td>\n",
       "    </tr>\n",
       "    <tr>\n",
       "      <th>123245</th>\n",
       "      <td>45</td>\n",
       "      <td>105</td>\n",
       "      <td>22075</td>\n",
       "      <td>0.0</td>\n",
       "      <td>307</td>\n",
       "      <td>403</td>\n",
       "      <td>41.657793</td>\n",
       "      <td>NaN</td>\n",
       "      <td>17.0</td>\n",
       "      <td>NaN</td>\n",
       "      <td>...</td>\n",
       "      <td>530.50</td>\n",
       "      <td>0.000000</td>\n",
       "      <td>NaN</td>\n",
       "      <td>0.000000</td>\n",
       "      <td>0.000000</td>\n",
       "      <td>6</td>\n",
       "      <td>31</td>\n",
       "      <td>4</td>\n",
       "      <td>4</td>\n",
       "      <td>1</td>\n",
       "    </tr>\n",
       "    <tr>\n",
       "      <th>123246</th>\n",
       "      <td>45</td>\n",
       "      <td>105</td>\n",
       "      <td>22083</td>\n",
       "      <td>0.0</td>\n",
       "      <td>303</td>\n",
       "      <td>401</td>\n",
       "      <td>1836.745742</td>\n",
       "      <td>NaN</td>\n",
       "      <td>769.0</td>\n",
       "      <td>1401.0</td>\n",
       "      <td>...</td>\n",
       "      <td>269.25</td>\n",
       "      <td>0.000000</td>\n",
       "      <td>NaN</td>\n",
       "      <td>0.000000</td>\n",
       "      <td>0.709961</td>\n",
       "      <td>6</td>\n",
       "      <td>31</td>\n",
       "      <td>11</td>\n",
       "      <td>11</td>\n",
       "      <td>1</td>\n",
       "    </tr>\n",
       "    <tr>\n",
       "      <th>123247</th>\n",
       "      <td>45</td>\n",
       "      <td>105</td>\n",
       "      <td>22084</td>\n",
       "      <td>0.0</td>\n",
       "      <td>302</td>\n",
       "      <td>408</td>\n",
       "      <td>4.913859</td>\n",
       "      <td>NaN</td>\n",
       "      <td>0.0</td>\n",
       "      <td>0.0</td>\n",
       "      <td>...</td>\n",
       "      <td>321.50</td>\n",
       "      <td>0.000000</td>\n",
       "      <td>NaN</td>\n",
       "      <td>0.000000</td>\n",
       "      <td>-0.423828</td>\n",
       "      <td>6</td>\n",
       "      <td>31</td>\n",
       "      <td>29</td>\n",
       "      <td>29</td>\n",
       "      <td>1</td>\n",
       "    </tr>\n",
       "  </tbody>\n",
       "</table>\n",
       "<p>89408 rows × 37 columns</p>\n",
       "</div>"
      ],
      "text/plain": [
       "        date_block_num  sales_region_code  item_code  item_cnt_month  \\\n",
       "33840               13                101      20003             0.0   \n",
       "33841               13                101      20005             5.0   \n",
       "33842               13                101      20006             0.0   \n",
       "33843               13                101      20008           338.0   \n",
       "33844               13                101      20009             9.0   \n",
       "...                ...                ...        ...             ...   \n",
       "123243              45                105      22066             0.0   \n",
       "123244              45                105      22072             0.0   \n",
       "123245              45                105      22075             0.0   \n",
       "123246              45                105      22083             0.0   \n",
       "123247              45                105      22084             0.0   \n",
       "\n",
       "        first_cate_code  second_cate_code  item_cnt_month_lag_1  \\\n",
       "33840               301               405              0.000000   \n",
       "33841               306               407              0.000000   \n",
       "33842               307               403              0.000000   \n",
       "33843               303               401            127.000000   \n",
       "33844               306               407             30.000000   \n",
       "...                 ...               ...                   ...   \n",
       "123243              307               403           2594.629787   \n",
       "123244              305               412           1841.096182   \n",
       "123245              307               403             41.657793   \n",
       "123246              303               401           1836.745742   \n",
       "123247              302               408              4.913859   \n",
       "\n",
       "        item_cnt_month_lag_2  item_cnt_month_lag_3  item_cnt_month_lag_6  ...  \\\n",
       "33840                    0.0                   0.0                   0.0  ...   \n",
       "33841                    0.0                   0.0                   0.0  ...   \n",
       "33842                    0.0                   0.0                   0.0  ...   \n",
       "33843                  219.0                  89.0                  46.0  ...   \n",
       "33844                   10.0                   2.0                  18.0  ...   \n",
       "...                      ...                   ...                   ...  ...   \n",
       "123243                   NaN                4624.0                7600.0  ...   \n",
       "123244                   NaN                4224.0                1010.0  ...   \n",
       "123245                   NaN                  17.0                   NaN  ...   \n",
       "123246                   NaN                 769.0                1401.0  ...   \n",
       "123247                   NaN                   0.0                   0.0  ...   \n",
       "\n",
       "        date_region_subtype_avg_item_cnt_lag_1  delta_price_lag  \\\n",
       "33840                                     0.00        -0.071411   \n",
       "33841                                   404.50         0.041565   \n",
       "33842                                     0.00        -0.024017   \n",
       "33843                                   281.00        -0.037445   \n",
       "33844                                   404.50        -0.075928   \n",
       "...                                        ...              ...   \n",
       "123243                                  530.50         0.000000   \n",
       "123244                                  346.50         0.000000   \n",
       "123245                                  530.50         0.000000   \n",
       "123246                                  269.25         0.000000   \n",
       "123247                                  321.50         0.000000   \n",
       "\n",
       "        delta_revenue_lag_1  delta_cnt_lag  delta_cnt_lag__12  month  days  \\\n",
       "33840          1.419666e+06      -0.006149          -0.199585     10    30   \n",
       "33841          1.264956e+07      -0.390869          -0.187988     10    30   \n",
       "33842          1.994304e+06       0.055695           1.519531     10    30   \n",
       "33843          4.716996e+06      -0.205444           0.080444     10    30   \n",
       "33844          1.264956e+07      -0.795898          -0.291748     10    30   \n",
       "...                     ...            ...                ...    ...   ...   \n",
       "123243                  NaN       0.000000          -0.541992      6    31   \n",
       "123244                  NaN       0.000000           0.000000      6    31   \n",
       "123245                  NaN       0.000000           0.000000      6    31   \n",
       "123246                  NaN       0.000000           0.709961      6    31   \n",
       "123247                  NaN       0.000000          -0.423828      6    31   \n",
       "\n",
       "        item_subtype_first_sale  item_first_sale  is_promotion_month  \n",
       "33840                        13               13                   0  \n",
       "33841                        12               12                   0  \n",
       "33842                        13               13                   0  \n",
       "33843                        13               13                   0  \n",
       "33844                        13               13                   0  \n",
       "...                         ...              ...                 ...  \n",
       "123243                       29               29                   1  \n",
       "123244                        9                9                   1  \n",
       "123245                        4                4                   1  \n",
       "123246                       11               11                   1  \n",
       "123247                       29               29                   1  \n",
       "\n",
       "[89408 rows x 37 columns]"
      ]
     },
     "execution_count": 134,
     "metadata": {},
     "output_type": "execute_result"
    }
   ],
   "source": [
    "matrix"
   ]
  },
  {
   "cell_type": "code",
   "execution_count": 135,
   "id": "ea4b4064",
   "metadata": {},
   "outputs": [],
   "source": [
    "matrix.to_csv(f\"./中间数据/月度数据无编码_12_{valid_num+1}.csv\",index=False)"
   ]
  }
 ],
 "metadata": {
  "kernelspec": {
   "display_name": "Python 3",
   "language": "python",
   "name": "python3"
  },
  "language_info": {
   "codemirror_mode": {
    "name": "ipython",
    "version": 3
   },
   "file_extension": ".py",
   "mimetype": "text/x-python",
   "name": "python",
   "nbconvert_exporter": "python",
   "pygments_lexer": "ipython3",
   "version": "3.8.8"
  }
 },
 "nbformat": 4,
 "nbformat_minor": 5
}
